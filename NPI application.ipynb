{
 "cells": [
  {
   "cell_type": "code",
   "execution_count": 1,
   "id": "76f4d3e7-0a53-4e33-8990-e95b739e1085",
   "metadata": {},
   "outputs": [],
   "source": [
    "from MIXIRT import *\n",
    "from helpers import Cor, MSE, recovery_plot, empty_directory\n",
    "from data import *\n",
    "\n",
    "from torch.utils.data import DataLoader\n",
    "from pytorch_lightning import Trainer\n",
    "from pytorch_lightning.callbacks.early_stopping import EarlyStopping\n",
    "from pytorch_lightning.loggers import CSVLogger\n",
    "import time\n",
    "\n",
    "import os\n",
    "import pandas as pd\n",
    "from scipy.stats import pearsonr\n",
    "import matplotlib.pyplot as plt\n",
    "import shutil\n",
    "import yaml\n",
    "import sys\n",
    "\n",
    "# Read in configurations\n",
    "with open(\"./config.yml\", \"r\") as f:\n",
    "    cfg = yaml.safe_load(f)\n",
    "    cfg = cfg['Configs']\n",
    "\n",
    "def cov2cor(cov_matrix):\n",
    "    \"\"\"\n",
    "    Convert a covariance matrix to a correlation matrix.\n",
    "\n",
    "    Parameters:\n",
    "    cov_matrix (np.ndarray): A square covariance matrix.\n",
    "\n",
    "    Returns:\n",
    "    np.ndarray: The corresponding correlation matrix.\n",
    "    \"\"\"\n",
    "    # Compute the standard deviations\n",
    "    stddev = np.sqrt(np.diag(cov_matrix))\n",
    "\n",
    "    # Outer product of standard deviations\n",
    "    outer_stddev = np.outer(stddev, stddev)\n",
    "\n",
    "    # Create the correlation matrix\n",
    "    cor_matrix = cov_matrix / outer_stddev\n",
    "\n",
    "    # Fix any numerical issues that may have resulted in slightly off-diagonal values\n",
    "    np.fill_diagonal(cor_matrix, 1)\n",
    "\n",
    "    return cor_matrix\n",
    "\n",
    "\n",
    "def Cor(x, y):\n",
    "    \"\"\"Correlate each n with each m.\n",
    "\n",
    "    Parameters\n",
    "    ----------\n",
    "    x : np.array\n",
    "      Shape N X T.\n",
    "\n",
    "    y : np.array\n",
    "      Shape M X T.\n",
    "\n",
    "    Returns\n",
    "    -------\n",
    "    np.array\n",
    "      N X M array in which each element is a correlation coefficient.\n",
    "\n",
    "    \"\"\"\n",
    "    mu_x = x.mean(1)\n",
    "    mu_y = y.mean(1)\n",
    "    n = x.shape[1]\n",
    "    if n != y.shape[1]:\n",
    "        raise ValueError('x and y must ' +\n",
    "                         'have the same number of timepoints.')\n",
    "    s_x = x.std(1, ddof=n - 1)\n",
    "    s_y = y.std(1, ddof=n - 1)\n",
    "    cov = np.dot(x,\n",
    "                 y.T) - n * np.dot(mu_x[:, np.newaxis],\n",
    "                                  mu_y[np.newaxis, :])\n",
    "    return cov / np.dot(s_x[:, np.newaxis], s_y[np.newaxis, :])"
   ]
  },
  {
   "cell_type": "code",
   "execution_count": 2,
   "id": "92b81695-f6c5-41b6-a5cb-baaea75409ae",
   "metadata": {},
   "outputs": [],
   "source": [
    "npi = pd.read_csv('/Users/karel/Downloads/NPI/data.csv')\n",
    "npi_items = npi.iloc[:, 1:41].values \n",
    "\n",
    "# dictionary defining for each item on which factor it loads\n",
    "stucture_dict = {\n",
    " 'Q1':'A',\n",
    " 'Q2':'Ex',\n",
    " 'Q3':'Ex',\n",
    " 'Q4':'S',\n",
    " 'Q5':'Ent',\n",
    " 'Q6':'Exp',\n",
    " 'Q7':'Ex',\n",
    " 'Q8':'A',\n",
    " 'Q9':'S',\n",
    " 'Q10':'A',\n",
    " 'Q11':'A',\n",
    " 'Q12':'A',\n",
    " 'Q13':'Exp',\n",
    " 'Q14':'Ent',\n",
    " 'Q15':'V',\n",
    " 'Q16':'Exp',\n",
    " 'Q17':'S-S',\n",
    " 'Q18':'Ent',\n",
    " 'Q19':'V',\n",
    " 'Q20':'Ex',\n",
    " 'Q21':'S-S',\n",
    " 'Q22':'S-S',\n",
    " 'Q23':'Exp',\n",
    " 'Q24':'Ent',\n",
    " 'Q25':'Ent',\n",
    " 'Q26':'S',\n",
    " 'Q27':'Ent',\n",
    " 'Q28':'Ex',\n",
    " 'Q29':'V',\n",
    " 'Q30':'Ex',\n",
    " 'Q31':'S-S',\n",
    " 'Q32':'A',\n",
    " 'Q33':'A',\n",
    " 'Q34':'S-S',\n",
    " 'Q35':'Exp',\n",
    " 'Q36':'A',\n",
    " 'Q37':'S',\n",
    " 'Q38':'Ex',\n",
    " 'Q39':'S-S',\n",
    " 'Q40':'S'\n",
    "}\n",
    "\n",
    "# create mapping of factors to integers\n",
    "factors = sorted(set(stucture_dict.values()))\n",
    "factor_to_index = {factor: i for i, factor in enumerate(factors)}\n",
    "\n",
    "# Create Q matrix\n",
    "Q = torch.zeros((40, len(factors)))\n",
    "for i, item in enumerate(sorted(stucture_dict.keys(), key=lambda x: int(x[1:]))):\n",
    "    factor = stucture_dict[item]\n",
    "    j = factor_to_index[factor]\n",
    "    Q[i, j] = 1\n"
   ]
  },
  {
   "cell_type": "code",
   "execution_count": 3,
   "id": "2274f19f-a56c-4029-bf4b-69b785627bd4",
   "metadata": {},
   "outputs": [],
   "source": [
    "coding= np.array([1,1,1,2,2,1,2,1,2,2,1,1,1,1,2,1,2,2,2,2,1,2,2,1,1,2,1,2,1,1,1,2,1,1,2,1,1,1,1,2])\n",
    "coding = np.expand_dims(coding, 0)\n",
    "npi_items = (npi_items == coding).astype(int)"
   ]
  },
  {
   "cell_type": "markdown",
   "id": "18ad3185-874d-4468-acd3-b5ac4e55f00f",
   "metadata": {},
   "source": [
    "# Initial model fit"
   ]
  },
  {
   "cell_type": "code",
   "execution_count": 6,
   "id": "edc10d71-4698-43e5-8ec7-2a21ff3dc1b8",
   "metadata": {},
   "outputs": [
    {
     "name": "stderr",
     "output_type": "stream",
     "text": [
      "Using default `ModelCheckpoint`. Consider installing `litmodels` package to enable `LitModelCheckpoint` for automatic upload to the Lightning model registry.\n",
      "GPU available: True (mps), used: False\n",
      "TPU available: False, using: 0 TPU cores\n",
      "HPU available: False, using: 0 HPUs\n"
     ]
    },
    {
     "data": {
      "application/vnd.jupyter.widget-view+json": {
       "model_id": "cfa308d4f0b14edc8d5b0ce25558bd3a",
       "version_major": 2,
       "version_minor": 0
      },
      "text/plain": [
       "Training: |                                                 | 0/? [00:00<?, ?it/s]"
      ]
     },
     "metadata": {},
     "output_type": "display_data"
    }
   ],
   "source": [
    "dataset = MemoryDataset(npi_items)\n",
    "train_loader = DataLoader(dataset, cfg['OptimConfigs']['batch_size'], shuffle=True)\n",
    "test_loader = DataLoader(dataset, batch_size=npi_items.shape[0], shuffle=False)\n",
    "\n",
    "# repeat the enitre training process n_rep times\n",
    "best_ll = -float('inf')\n",
    "for i in range(1):\n",
    "    # initialize logger and trainer\n",
    "    logger = CSVLogger(\"logs\", name='_'.join(sys.argv), version=0)\n",
    "    trainer = Trainer(fast_dev_run=cfg['OptimConfigs']['single_epoch_test_run'],\n",
    "                      max_epochs=cfg['OptimConfigs']['max_epochs'],\n",
    "                      min_epochs=cfg['OptimConfigs']['min_epochs'],\n",
    "                      logger=logger,\n",
    "                      callbacks=[\n",
    "                          EarlyStopping(monitor='train_loss',\n",
    "                                        min_delta=cfg['OptimConfigs']['min_delta'],\n",
    "                                        patience=cfg['OptimConfigs']['patience'],\n",
    "                                        mode='min')],\n",
    "                      enable_progress_bar=True,\n",
    "                      enable_model_summary=False,\n",
    "                      detect_anomaly=cfg['OptimConfigs']['detect_anomaly'],\n",
    "                      accelerator=cfg['OptimConfigs']['accelerator'])\n",
    "\n",
    "    model = VAE(dataloader=train_loader,\n",
    "              nitems=npi_items.shape[1],\n",
    "              learning_rate=cfg['OptimConfigs']['learning_rate'],\n",
    "              latent_dims=7,\n",
    "              hidden_layer_size=(40+7)//2,\n",
    "              qm=Q,\n",
    "              batch_size=32,\n",
    "              n_iw_samples=10,\n",
    "              temperature=cfg['OptimConfigs']['gumbel_temperature'],\n",
    "              temperature_decay=cfg['OptimConfigs']['gumbel_decay'],\n",
    "              min_temp=cfg['OptimConfigs']['gumbel_min_temp'],\n",
    "              beta=1)\n",
    "\n",
    "    start = time.time()\n",
    "    trainer.fit(model)\n",
    "    runtime = time.time() - start\n",
    "\n",
    "    pi, theta, itempars, ll = model.compute_parameters(npi_items)\n",
    "\n",
    "    dataset = MemoryDataset(npi_items)\n",
    "    train_loader = DataLoader(dataset, batch_size=npi_items.shape[0], shuffle=False)\n",
    "    data= next(iter(train_loader))\n",
    "    latent_vector = model.encoder(data)\n",
    "    log_sigma = latent_vector[:,8:(8*2)]\n",
    "    post_samples = model.fscores(data)[0]\n",
    "\n",
    "    cov_matrix = torch.einsum('ijk,ijl->jkl', post_samples, post_samples) / (post_samples.shape[0] - 1)\n",
    "\n",
    "    # Step 4: Convert the covariance matrix to a correlation matrix\n",
    "    std_dev = torch.sqrt(torch.diagonal(cov_matrix, dim1=-2, dim2=-1)).unsqueeze(-1)\n",
    "    est_cov_mat = (cov_matrix / (std_dev @ std_dev.transpose(-2, -1))).detach().numpy().mean(0)\n",
    "    est_cor_mat = np.abs(cov2cor(est_cov_mat))\n",
    "    \n",
    "    if ll > best_ll:\n",
    "        best_ll = ll\n",
    "        best_model = model\n",
    "        best_itempars = itempars\n",
    "        best_pi = pi\n",
    "        best_theta = theta\n",
    "        best_cor_mat = est_cor_mat\n",
    "        best_class_ix = torch.argmax(best_pi, 1)"
   ]
  },
  {
   "cell_type": "code",
   "execution_count": 6,
   "id": "787087e2-9722-4d50-8cd8-d542fc222481",
   "metadata": {},
   "outputs": [
    {
     "name": "stderr",
     "output_type": "stream",
     "text": [
      "/var/folders/08/7_7s3c813m1dy7916gxtxvth0000gn/T/ipykernel_28630/3183774218.py:9: UserWarning: Ignoring `palette` because no `hue` variable has been assigned.\n",
      "  sns.scatterplot(data=df, x='int0', y='int1', palette='deep')\n"
     ]
    },
    {
     "data": {
      "image/png": "[encoded data removed]",
      "text/plain": [
       "<Figure size 640x480 with 1 Axes>"
      ]
     },
     "metadata": {},
     "output_type": "display_data"
    }
   ],
   "source": [
    "import seaborn as sns\n",
    "ints = itempars[:,0 ,:]\n",
    "df = pd.DataFrame({'int0': ints[:,0], 'int1': ints[:,1]})\n",
    "\n",
    "#flipped = df['int0'] > df['int1']\n",
    "#df['int0'][flipped] *= -1\n",
    "#df['int1'][flipped] *= -1\n",
    "\n",
    "sns.scatterplot(data=df, x='int0', y='int1', palette='deep')\n",
    "\n",
    "# Add identity line\n",
    "min_val = min(df['int0'].min(), df['int1'].min())\n",
    "max_val = max(df['int0'].max(), df['int1'].max())\n",
    "plt.plot([min_val, max_val], [min_val, max_val], color='gray', linestyle='--', label='y = x')\n",
    "\n",
    "\n",
    "plt.title('Scatterplot of int0 vs int1 ')\n",
    "plt.xlabel('int0')\n",
    "plt.ylabel('int1')\n",
    "plt.show()"
   ]
  },
  {
   "cell_type": "code",
   "execution_count": 12,
   "id": "b067ebb6-99cf-4e8c-ac59-8cf543f785a7",
   "metadata": {},
   "outputs": [
    {
     "data": {
      "text/html": [
       "<div>\n",
       "<style scoped>\n",
       "    .dataframe tbody tr th:only-of-type {\n",
       "        vertical-align: middle;\n",
       "    }\n",
       "\n",
       "    .dataframe tbody tr th {\n",
       "        vertical-align: top;\n",
       "    }\n",
       "\n",
       "    .dataframe thead th {\n",
       "        text-align: right;\n",
       "    }\n",
       "</style>\n",
       "<table border=\"1\" class=\"dataframe\">\n",
       "  <thead>\n",
       "    <tr style=\"text-align: right;\">\n",
       "      <th></th>\n",
       "      <th>latent_class</th>\n",
       "    </tr>\n",
       "    <tr>\n",
       "      <th>gender</th>\n",
       "      <th></th>\n",
       "    </tr>\n",
       "  </thead>\n",
       "  <tbody>\n",
       "    <tr>\n",
       "      <th>0</th>\n",
       "      <td>0.166667</td>\n",
       "    </tr>\n",
       "    <tr>\n",
       "      <th>1</th>\n",
       "      <td>0.325292</td>\n",
       "    </tr>\n",
       "    <tr>\n",
       "      <th>2</th>\n",
       "      <td>0.213806</td>\n",
       "    </tr>\n",
       "    <tr>\n",
       "      <th>3</th>\n",
       "      <td>0.425000</td>\n",
       "    </tr>\n",
       "  </tbody>\n",
       "</table>\n",
       "</div>"
      ],
      "text/plain": [
       "        latent_class\n",
       "gender              \n",
       "0           0.166667\n",
       "1           0.325292\n",
       "2           0.213806\n",
       "3           0.425000"
      ]
     },
     "execution_count": 12,
     "metadata": {},
     "output_type": "execute_result"
    }
   ],
   "source": [
    "npi['latent_class'] = pi[:,0] > 0\n",
    "1-npi.groupby('gender').agg({'latent_class':'mean'})"
   ]
  },
  {
   "cell_type": "code",
   "execution_count": 13,
   "id": "af607322-f7b1-4078-b484-4b4521de7396",
   "metadata": {},
   "outputs": [
    {
     "data": {
      "text/html": [
       "<div>\n",
       "<style scoped>\n",
       "    .dataframe tbody tr th:only-of-type {\n",
       "        vertical-align: middle;\n",
       "    }\n",
       "\n",
       "    .dataframe tbody tr th {\n",
       "        vertical-align: top;\n",
       "    }\n",
       "\n",
       "    .dataframe thead th {\n",
       "        text-align: right;\n",
       "    }\n",
       "</style>\n",
       "<table border=\"1\" class=\"dataframe\">\n",
       "  <thead>\n",
       "    <tr style=\"text-align: right;\">\n",
       "      <th></th>\n",
       "      <th>age</th>\n",
       "    </tr>\n",
       "    <tr>\n",
       "      <th>latent_class</th>\n",
       "      <th></th>\n",
       "    </tr>\n",
       "  </thead>\n",
       "  <tbody>\n",
       "    <tr>\n",
       "      <th>False</th>\n",
       "      <td>29.266944</td>\n",
       "    </tr>\n",
       "    <tr>\n",
       "      <th>True</th>\n",
       "      <td>35.844116</td>\n",
       "    </tr>\n",
       "  </tbody>\n",
       "</table>\n",
       "</div>"
      ],
      "text/plain": [
       "                    age\n",
       "latent_class           \n",
       "False         29.266944\n",
       "True          35.844116"
      ]
     },
     "execution_count": 13,
     "metadata": {},
     "output_type": "execute_result"
    }
   ],
   "source": [
    "npi.groupby('latent_class').agg({'age':'mean'})\n",
    "#npi.groupby('latent_class').agg({'age':np.std})"
   ]
  },
  {
   "cell_type": "code",
   "execution_count": 7,
   "id": "3da9bd06-d2b9-4b35-84cf-73c1afa6d38d",
   "metadata": {},
   "outputs": [],
   "source": [
    "est_class = (pi[:,0] > 0).int().numpy()\n",
    "intercepts = itempars[:, 0, :].numpy()\n",
    "slopes = itempars[:, 1:, 0].numpy()\n",
    "np.savetxt('/Users/karel/Documents/GitHub/Discrete_VAEs/results/NPI results/est_class.csv', est_class, delimiter=\",\")\n",
    "np.savetxt('/Users/karel/Documents/GitHub/Discrete_VAEs/results/NPI results/est_intercepts.csv', intercepts, delimiter=\",\")\n",
    "np.savetxt('/Users/karel/Documents/GitHub/Discrete_VAEs/results/NPI results/est_slopes.csv', slopes, delimiter=\",\")\n",
    "np.savetxt('/Users/karel/Documents/GitHub/Discrete_VAEs/Qmatrices/QmatrixNPI.csv', Q.numpy(), delimiter=\",\")"
   ]
  },
  {
   "cell_type": "markdown",
   "id": "034dc3b4-306f-43d8-8b84-c90273ceb859",
   "metadata": {},
   "source": [
    "# Bootstrapping for SEs"
   ]
  },
  {
   "cell_type": "markdown",
   "id": "de963606-7fa0-4546-b8d0-ebd5a7c57041",
   "metadata": {},
   "source": [
    "\n",
    "\n"
   ]
  },
  {
   "cell_type": "markdown",
   "id": "ccca17bb-e3fe-495d-97e2-63b69a7c850f",
   "metadata": {},
   "source": []
  },
  {
   "cell_type": "code",
   "execution_count": 8,
   "id": "d28b4913-0d47-427c-8f98-faccc95b2875",
   "metadata": {},
   "outputs": [
    {
     "name": "stderr",
     "output_type": "stream",
     "text": [
      "Using default `ModelCheckpoint`. Consider installing `litmodels` package to enable `LitModelCheckpoint` for automatic upload to the Lightning model registry.\n",
      "GPU available: True (mps), used: False\n",
      "TPU available: False, using: 0 TPU cores\n",
      "HPU available: False, using: 0 HPUs\n"
     ]
    },
    {
     "name": "stdout",
     "output_type": "stream",
     "text": [
      "0\n"
     ]
    },
    {
     "data": {
      "application/vnd.jupyter.widget-view+json": {
       "model_id": "bd8e0f3b2d32407985dccc7fcf8de263",
       "version_major": 2,
       "version_minor": 0
      },
      "text/plain": [
       "Training: |                                                 | 0/? [00:00<?, ?it/s]"
      ]
     },
     "metadata": {},
     "output_type": "display_data"
    },
    {
     "name": "stderr",
     "output_type": "stream",
     "text": [
      "Using default `ModelCheckpoint`. Consider installing `litmodels` package to enable `LitModelCheckpoint` for automatic upload to the Lightning model registry.\n",
      "GPU available: True (mps), used: False\n",
      "TPU available: False, using: 0 TPU cores\n",
      "HPU available: False, using: 0 HPUs\n"
     ]
    },
    {
     "name": "stdout",
     "output_type": "stream",
     "text": [
      "1\n"
     ]
    },
    {
     "data": {
      "application/vnd.jupyter.widget-view+json": {
       "model_id": "70618b902d30475eb0537e0991703471",
       "version_major": 2,
       "version_minor": 0
      },
      "text/plain": [
       "Training: |                                                 | 0/? [00:00<?, ?it/s]"
      ]
     },
     "metadata": {},
     "output_type": "display_data"
    },
    {
     "name": "stderr",
     "output_type": "stream",
     "text": [
      "Using default `ModelCheckpoint`. Consider installing `litmodels` package to enable `LitModelCheckpoint` for automatic upload to the Lightning model registry.\n",
      "GPU available: True (mps), used: False\n",
      "TPU available: False, using: 0 TPU cores\n",
      "HPU available: False, using: 0 HPUs\n"
     ]
    },
    {
     "name": "stdout",
     "output_type": "stream",
     "text": [
      "2\n"
     ]
    },
    {
     "data": {
      "application/vnd.jupyter.widget-view+json": {
       "model_id": "5bf8355e7732409e93d7cb6507646bb9",
       "version_major": 2,
       "version_minor": 0
      },
      "text/plain": [
       "Training: |                                                 | 0/? [00:00<?, ?it/s]"
      ]
     },
     "metadata": {},
     "output_type": "display_data"
    },
    {
     "name": "stderr",
     "output_type": "stream",
     "text": [
      "Using default `ModelCheckpoint`. Consider installing `litmodels` package to enable `LitModelCheckpoint` for automatic upload to the Lightning model registry.\n",
      "GPU available: True (mps), used: False\n",
      "TPU available: False, using: 0 TPU cores\n",
      "HPU available: False, using: 0 HPUs\n"
     ]
    },
    {
     "name": "stdout",
     "output_type": "stream",
     "text": [
      "3\n"
     ]
    },
    {
     "data": {
      "application/vnd.jupyter.widget-view+json": {
       "model_id": "feb3e834d5e3423ea65bfc956a071e59",
       "version_major": 2,
       "version_minor": 0
      },
      "text/plain": [
       "Training: |                                                 | 0/? [00:00<?, ?it/s]"
      ]
     },
     "metadata": {},
     "output_type": "display_data"
    },
    {
     "name": "stderr",
     "output_type": "stream",
     "text": [
      "Using default `ModelCheckpoint`. Consider installing `litmodels` package to enable `LitModelCheckpoint` for automatic upload to the Lightning model registry.\n",
      "GPU available: True (mps), used: False\n",
      "TPU available: False, using: 0 TPU cores\n",
      "HPU available: False, using: 0 HPUs\n"
     ]
    },
    {
     "name": "stdout",
     "output_type": "stream",
     "text": [
      "4\n"
     ]
    },
    {
     "data": {
      "application/vnd.jupyter.widget-view+json": {
       "model_id": "b46f8fe8852944ea94f77a400234f7f0",
       "version_major": 2,
       "version_minor": 0
      },
      "text/plain": [
       "Training: |                                                 | 0/? [00:00<?, ?it/s]"
      ]
     },
     "metadata": {},
     "output_type": "display_data"
    },
    {
     "name": "stderr",
     "output_type": "stream",
     "text": [
      "Using default `ModelCheckpoint`. Consider installing `litmodels` package to enable `LitModelCheckpoint` for automatic upload to the Lightning model registry.\n",
      "GPU available: True (mps), used: False\n",
      "TPU available: False, using: 0 TPU cores\n",
      "HPU available: False, using: 0 HPUs\n"
     ]
    },
    {
     "name": "stdout",
     "output_type": "stream",
     "text": [
      "5\n"
     ]
    },
    {
     "data": {
      "application/vnd.jupyter.widget-view+json": {
       "model_id": "52dc7191fa634fff98fe0d46ed428c87",
       "version_major": 2,
       "version_minor": 0
      },
      "text/plain": [
       "Training: |                                                 | 0/? [00:00<?, ?it/s]"
      ]
     },
     "metadata": {},
     "output_type": "display_data"
    },
    {
     "name": "stderr",
     "output_type": "stream",
     "text": [
      "Using default `ModelCheckpoint`. Consider installing `litmodels` package to enable `LitModelCheckpoint` for automatic upload to the Lightning model registry.\n",
      "GPU available: True (mps), used: False\n",
      "TPU available: False, using: 0 TPU cores\n",
      "HPU available: False, using: 0 HPUs\n"
     ]
    },
    {
     "name": "stdout",
     "output_type": "stream",
     "text": [
      "6\n"
     ]
    },
    {
     "data": {
      "application/vnd.jupyter.widget-view+json": {
       "model_id": "1e4e9f67ef5b4cf1a3a2d2cc8b0fe03a",
       "version_major": 2,
       "version_minor": 0
      },
      "text/plain": [
       "Training: |                                                 | 0/? [00:00<?, ?it/s]"
      ]
     },
     "metadata": {},
     "output_type": "display_data"
    },
    {
     "name": "stderr",
     "output_type": "stream",
     "text": [
      "Using default `ModelCheckpoint`. Consider installing `litmodels` package to enable `LitModelCheckpoint` for automatic upload to the Lightning model registry.\n",
      "GPU available: True (mps), used: False\n",
      "TPU available: False, using: 0 TPU cores\n",
      "HPU available: False, using: 0 HPUs\n"
     ]
    },
    {
     "name": "stdout",
     "output_type": "stream",
     "text": [
      "7\n"
     ]
    },
    {
     "data": {
      "application/vnd.jupyter.widget-view+json": {
       "model_id": "49304979df50431b8495660d2c688bff",
       "version_major": 2,
       "version_minor": 0
      },
      "text/plain": [
       "Training: |                                                 | 0/? [00:00<?, ?it/s]"
      ]
     },
     "metadata": {},
     "output_type": "display_data"
    },
    {
     "name": "stderr",
     "output_type": "stream",
     "text": [
      "Using default `ModelCheckpoint`. Consider installing `litmodels` package to enable `LitModelCheckpoint` for automatic upload to the Lightning model registry.\n",
      "GPU available: True (mps), used: False\n",
      "TPU available: False, using: 0 TPU cores\n",
      "HPU available: False, using: 0 HPUs\n"
     ]
    },
    {
     "name": "stdout",
     "output_type": "stream",
     "text": [
      "8\n"
     ]
    },
    {
     "data": {
      "application/vnd.jupyter.widget-view+json": {
       "model_id": "4534789c20054e10ac8a06a3cdc28ceb",
       "version_major": 2,
       "version_minor": 0
      },
      "text/plain": [
       "Training: |                                                 | 0/? [00:00<?, ?it/s]"
      ]
     },
     "metadata": {},
     "output_type": "display_data"
    },
    {
     "name": "stderr",
     "output_type": "stream",
     "text": [
      "Using default `ModelCheckpoint`. Consider installing `litmodels` package to enable `LitModelCheckpoint` for automatic upload to the Lightning model registry.\n",
      "GPU available: True (mps), used: False\n",
      "TPU available: False, using: 0 TPU cores\n",
      "HPU available: False, using: 0 HPUs\n"
     ]
    },
    {
     "name": "stdout",
     "output_type": "stream",
     "text": [
      "9\n"
     ]
    },
    {
     "data": {
      "application/vnd.jupyter.widget-view+json": {
       "model_id": "17c12ff46514405c81b4b6313d867e79",
       "version_major": 2,
       "version_minor": 0
      },
      "text/plain": [
       "Training: |                                                 | 0/? [00:00<?, ?it/s]"
      ]
     },
     "metadata": {},
     "output_type": "display_data"
    },
    {
     "name": "stderr",
     "output_type": "stream",
     "text": [
      "Using default `ModelCheckpoint`. Consider installing `litmodels` package to enable `LitModelCheckpoint` for automatic upload to the Lightning model registry.\n",
      "GPU available: True (mps), used: False\n",
      "TPU available: False, using: 0 TPU cores\n",
      "HPU available: False, using: 0 HPUs\n"
     ]
    },
    {
     "name": "stdout",
     "output_type": "stream",
     "text": [
      "10\n"
     ]
    },
    {
     "data": {
      "application/vnd.jupyter.widget-view+json": {
       "model_id": "3c96c1f9687743489045a70fdc40d0db",
       "version_major": 2,
       "version_minor": 0
      },
      "text/plain": [
       "Training: |                                                 | 0/? [00:00<?, ?it/s]"
      ]
     },
     "metadata": {},
     "output_type": "display_data"
    },
    {
     "name": "stderr",
     "output_type": "stream",
     "text": [
      "Using default `ModelCheckpoint`. Consider installing `litmodels` package to enable `LitModelCheckpoint` for automatic upload to the Lightning model registry.\n",
      "GPU available: True (mps), used: False\n",
      "TPU available: False, using: 0 TPU cores\n",
      "HPU available: False, using: 0 HPUs\n"
     ]
    },
    {
     "name": "stdout",
     "output_type": "stream",
     "text": [
      "11\n"
     ]
    },
    {
     "data": {
      "application/vnd.jupyter.widget-view+json": {
       "model_id": "452bae1ded254f7c9c2b54a9946c01a3",
       "version_major": 2,
       "version_minor": 0
      },
      "text/plain": [
       "Training: |                                                 | 0/? [00:00<?, ?it/s]"
      ]
     },
     "metadata": {},
     "output_type": "display_data"
    },
    {
     "name": "stderr",
     "output_type": "stream",
     "text": [
      "Using default `ModelCheckpoint`. Consider installing `litmodels` package to enable `LitModelCheckpoint` for automatic upload to the Lightning model registry.\n",
      "GPU available: True (mps), used: False\n",
      "TPU available: False, using: 0 TPU cores\n",
      "HPU available: False, using: 0 HPUs\n"
     ]
    },
    {
     "name": "stdout",
     "output_type": "stream",
     "text": [
      "12\n"
     ]
    },
    {
     "data": {
      "application/vnd.jupyter.widget-view+json": {
       "model_id": "2076528ab5244bd1b5f341e9a5ab8589",
       "version_major": 2,
       "version_minor": 0
      },
      "text/plain": [
       "Training: |                                                 | 0/? [00:00<?, ?it/s]"
      ]
     },
     "metadata": {},
     "output_type": "display_data"
    },
    {
     "name": "stderr",
     "output_type": "stream",
     "text": [
      "Using default `ModelCheckpoint`. Consider installing `litmodels` package to enable `LitModelCheckpoint` for automatic upload to the Lightning model registry.\n",
      "GPU available: True (mps), used: False\n",
      "TPU available: False, using: 0 TPU cores\n",
      "HPU available: False, using: 0 HPUs\n"
     ]
    },
    {
     "name": "stdout",
     "output_type": "stream",
     "text": [
      "13\n"
     ]
    },
    {
     "data": {
      "application/vnd.jupyter.widget-view+json": {
       "model_id": "bcf50e2b692a46aa863df8aee9dd7c87",
       "version_major": 2,
       "version_minor": 0
      },
      "text/plain": [
       "Training: |                                                 | 0/? [00:00<?, ?it/s]"
      ]
     },
     "metadata": {},
     "output_type": "display_data"
    },
    {
     "name": "stderr",
     "output_type": "stream",
     "text": [
      "Using default `ModelCheckpoint`. Consider installing `litmodels` package to enable `LitModelCheckpoint` for automatic upload to the Lightning model registry.\n",
      "GPU available: True (mps), used: False\n",
      "TPU available: False, using: 0 TPU cores\n",
      "HPU available: False, using: 0 HPUs\n"
     ]
    },
    {
     "name": "stdout",
     "output_type": "stream",
     "text": [
      "14\n"
     ]
    },
    {
     "data": {
      "application/vnd.jupyter.widget-view+json": {
       "model_id": "6c3604384016420bb537c00cef06f9ed",
       "version_major": 2,
       "version_minor": 0
      },
      "text/plain": [
       "Training: |                                                 | 0/? [00:00<?, ?it/s]"
      ]
     },
     "metadata": {},
     "output_type": "display_data"
    },
    {
     "name": "stderr",
     "output_type": "stream",
     "text": [
      "Using default `ModelCheckpoint`. Consider installing `litmodels` package to enable `LitModelCheckpoint` for automatic upload to the Lightning model registry.\n",
      "GPU available: True (mps), used: False\n",
      "TPU available: False, using: 0 TPU cores\n",
      "HPU available: False, using: 0 HPUs\n"
     ]
    },
    {
     "name": "stdout",
     "output_type": "stream",
     "text": [
      "15\n"
     ]
    },
    {
     "data": {
      "application/vnd.jupyter.widget-view+json": {
       "model_id": "a0bdc3734c2a4ad79c71e32769e6884e",
       "version_major": 2,
       "version_minor": 0
      },
      "text/plain": [
       "Training: |                                                 | 0/? [00:00<?, ?it/s]"
      ]
     },
     "metadata": {},
     "output_type": "display_data"
    },
    {
     "name": "stderr",
     "output_type": "stream",
     "text": [
      "Using default `ModelCheckpoint`. Consider installing `litmodels` package to enable `LitModelCheckpoint` for automatic upload to the Lightning model registry.\n",
      "GPU available: True (mps), used: False\n",
      "TPU available: False, using: 0 TPU cores\n",
      "HPU available: False, using: 0 HPUs\n"
     ]
    },
    {
     "name": "stdout",
     "output_type": "stream",
     "text": [
      "16\n"
     ]
    },
    {
     "data": {
      "application/vnd.jupyter.widget-view+json": {
       "model_id": "8ef99fb849574d3b836283bfa63de2c0",
       "version_major": 2,
       "version_minor": 0
      },
      "text/plain": [
       "Training: |                                                 | 0/? [00:00<?, ?it/s]"
      ]
     },
     "metadata": {},
     "output_type": "display_data"
    },
    {
     "name": "stderr",
     "output_type": "stream",
     "text": [
      "Using default `ModelCheckpoint`. Consider installing `litmodels` package to enable `LitModelCheckpoint` for automatic upload to the Lightning model registry.\n",
      "GPU available: True (mps), used: False\n",
      "TPU available: False, using: 0 TPU cores\n",
      "HPU available: False, using: 0 HPUs\n"
     ]
    },
    {
     "name": "stdout",
     "output_type": "stream",
     "text": [
      "17\n"
     ]
    },
    {
     "data": {
      "application/vnd.jupyter.widget-view+json": {
       "model_id": "39eb7106e83e4a409ab7d20789292627",
       "version_major": 2,
       "version_minor": 0
      },
      "text/plain": [
       "Training: |                                                 | 0/? [00:00<?, ?it/s]"
      ]
     },
     "metadata": {},
     "output_type": "display_data"
    },
    {
     "name": "stderr",
     "output_type": "stream",
     "text": [
      "Using default `ModelCheckpoint`. Consider installing `litmodels` package to enable `LitModelCheckpoint` for automatic upload to the Lightning model registry.\n",
      "GPU available: True (mps), used: False\n",
      "TPU available: False, using: 0 TPU cores\n",
      "HPU available: False, using: 0 HPUs\n"
     ]
    },
    {
     "name": "stdout",
     "output_type": "stream",
     "text": [
      "18\n"
     ]
    },
    {
     "data": {
      "application/vnd.jupyter.widget-view+json": {
       "model_id": "f5f79ed1021445aa82027251075308ef",
       "version_major": 2,
       "version_minor": 0
      },
      "text/plain": [
       "Training: |                                                 | 0/? [00:00<?, ?it/s]"
      ]
     },
     "metadata": {},
     "output_type": "display_data"
    },
    {
     "name": "stderr",
     "output_type": "stream",
     "text": [
      "Using default `ModelCheckpoint`. Consider installing `litmodels` package to enable `LitModelCheckpoint` for automatic upload to the Lightning model registry.\n",
      "GPU available: True (mps), used: False\n",
      "TPU available: False, using: 0 TPU cores\n",
      "HPU available: False, using: 0 HPUs\n"
     ]
    },
    {
     "name": "stdout",
     "output_type": "stream",
     "text": [
      "19\n"
     ]
    },
    {
     "data": {
      "application/vnd.jupyter.widget-view+json": {
       "model_id": "e0b57da2142f4c54b495b40e377cb59c",
       "version_major": 2,
       "version_minor": 0
      },
      "text/plain": [
       "Training: |                                                 | 0/? [00:00<?, ?it/s]"
      ]
     },
     "metadata": {},
     "output_type": "display_data"
    },
    {
     "name": "stderr",
     "output_type": "stream",
     "text": [
      "Using default `ModelCheckpoint`. Consider installing `litmodels` package to enable `LitModelCheckpoint` for automatic upload to the Lightning model registry.\n",
      "GPU available: True (mps), used: False\n",
      "TPU available: False, using: 0 TPU cores\n",
      "HPU available: False, using: 0 HPUs\n"
     ]
    },
    {
     "name": "stdout",
     "output_type": "stream",
     "text": [
      "20\n"
     ]
    },
    {
     "data": {
      "application/vnd.jupyter.widget-view+json": {
       "model_id": "2de88f1762fa473f922e92646a68f3f1",
       "version_major": 2,
       "version_minor": 0
      },
      "text/plain": [
       "Training: |                                                 | 0/? [00:00<?, ?it/s]"
      ]
     },
     "metadata": {},
     "output_type": "display_data"
    },
    {
     "name": "stderr",
     "output_type": "stream",
     "text": [
      "Using default `ModelCheckpoint`. Consider installing `litmodels` package to enable `LitModelCheckpoint` for automatic upload to the Lightning model registry.\n",
      "GPU available: True (mps), used: False\n",
      "TPU available: False, using: 0 TPU cores\n",
      "HPU available: False, using: 0 HPUs\n"
     ]
    },
    {
     "name": "stdout",
     "output_type": "stream",
     "text": [
      "21\n"
     ]
    },
    {
     "data": {
      "application/vnd.jupyter.widget-view+json": {
       "model_id": "e2d77d2a794d441fb35825f66b720104",
       "version_major": 2,
       "version_minor": 0
      },
      "text/plain": [
       "Training: |                                                 | 0/? [00:00<?, ?it/s]"
      ]
     },
     "metadata": {},
     "output_type": "display_data"
    },
    {
     "name": "stderr",
     "output_type": "stream",
     "text": [
      "Using default `ModelCheckpoint`. Consider installing `litmodels` package to enable `LitModelCheckpoint` for automatic upload to the Lightning model registry.\n",
      "GPU available: True (mps), used: False\n",
      "TPU available: False, using: 0 TPU cores\n",
      "HPU available: False, using: 0 HPUs\n"
     ]
    },
    {
     "name": "stdout",
     "output_type": "stream",
     "text": [
      "22\n"
     ]
    },
    {
     "data": {
      "application/vnd.jupyter.widget-view+json": {
       "model_id": "c3028b94c63c471b885560678ea5263a",
       "version_major": 2,
       "version_minor": 0
      },
      "text/plain": [
       "Training: |                                                 | 0/? [00:00<?, ?it/s]"
      ]
     },
     "metadata": {},
     "output_type": "display_data"
    },
    {
     "name": "stderr",
     "output_type": "stream",
     "text": [
      "Using default `ModelCheckpoint`. Consider installing `litmodels` package to enable `LitModelCheckpoint` for automatic upload to the Lightning model registry.\n",
      "GPU available: True (mps), used: False\n",
      "TPU available: False, using: 0 TPU cores\n",
      "HPU available: False, using: 0 HPUs\n"
     ]
    },
    {
     "name": "stdout",
     "output_type": "stream",
     "text": [
      "23\n"
     ]
    },
    {
     "data": {
      "application/vnd.jupyter.widget-view+json": {
       "model_id": "a710521f675a44a6a579a50bd46ea949",
       "version_major": 2,
       "version_minor": 0
      },
      "text/plain": [
       "Training: |                                                 | 0/? [00:00<?, ?it/s]"
      ]
     },
     "metadata": {},
     "output_type": "display_data"
    },
    {
     "name": "stderr",
     "output_type": "stream",
     "text": [
      "Using default `ModelCheckpoint`. Consider installing `litmodels` package to enable `LitModelCheckpoint` for automatic upload to the Lightning model registry.\n",
      "GPU available: True (mps), used: False\n",
      "TPU available: False, using: 0 TPU cores\n",
      "HPU available: False, using: 0 HPUs\n"
     ]
    },
    {
     "name": "stdout",
     "output_type": "stream",
     "text": [
      "24\n"
     ]
    },
    {
     "data": {
      "application/vnd.jupyter.widget-view+json": {
       "model_id": "a1a19d891b184e98a8c2676856ee9713",
       "version_major": 2,
       "version_minor": 0
      },
      "text/plain": [
       "Training: |                                                 | 0/? [00:00<?, ?it/s]"
      ]
     },
     "metadata": {},
     "output_type": "display_data"
    },
    {
     "name": "stderr",
     "output_type": "stream",
     "text": [
      "Using default `ModelCheckpoint`. Consider installing `litmodels` package to enable `LitModelCheckpoint` for automatic upload to the Lightning model registry.\n",
      "GPU available: True (mps), used: False\n",
      "TPU available: False, using: 0 TPU cores\n",
      "HPU available: False, using: 0 HPUs\n"
     ]
    },
    {
     "name": "stdout",
     "output_type": "stream",
     "text": [
      "25\n"
     ]
    },
    {
     "data": {
      "application/vnd.jupyter.widget-view+json": {
       "model_id": "6e1d98bcd6ef42d2bd982e2838318124",
       "version_major": 2,
       "version_minor": 0
      },
      "text/plain": [
       "Training: |                                                 | 0/? [00:00<?, ?it/s]"
      ]
     },
     "metadata": {},
     "output_type": "display_data"
    },
    {
     "name": "stderr",
     "output_type": "stream",
     "text": [
      "Using default `ModelCheckpoint`. Consider installing `litmodels` package to enable `LitModelCheckpoint` for automatic upload to the Lightning model registry.\n",
      "GPU available: True (mps), used: False\n",
      "TPU available: False, using: 0 TPU cores\n",
      "HPU available: False, using: 0 HPUs\n"
     ]
    },
    {
     "name": "stdout",
     "output_type": "stream",
     "text": [
      "26\n"
     ]
    },
    {
     "data": {
      "application/vnd.jupyter.widget-view+json": {
       "model_id": "54f52d3dd0a54382bfa8071b810b9997",
       "version_major": 2,
       "version_minor": 0
      },
      "text/plain": [
       "Training: |                                                 | 0/? [00:00<?, ?it/s]"
      ]
     },
     "metadata": {},
     "output_type": "display_data"
    },
    {
     "name": "stderr",
     "output_type": "stream",
     "text": [
      "Using default `ModelCheckpoint`. Consider installing `litmodels` package to enable `LitModelCheckpoint` for automatic upload to the Lightning model registry.\n",
      "GPU available: True (mps), used: False\n",
      "TPU available: False, using: 0 TPU cores\n",
      "HPU available: False, using: 0 HPUs\n"
     ]
    },
    {
     "name": "stdout",
     "output_type": "stream",
     "text": [
      "27\n"
     ]
    },
    {
     "data": {
      "application/vnd.jupyter.widget-view+json": {
       "model_id": "5e2dc5db9ffd4fb08c13e5edd77506d5",
       "version_major": 2,
       "version_minor": 0
      },
      "text/plain": [
       "Training: |                                                 | 0/? [00:00<?, ?it/s]"
      ]
     },
     "metadata": {},
     "output_type": "display_data"
    },
    {
     "name": "stderr",
     "output_type": "stream",
     "text": [
      "Using default `ModelCheckpoint`. Consider installing `litmodels` package to enable `LitModelCheckpoint` for automatic upload to the Lightning model registry.\n",
      "GPU available: True (mps), used: False\n",
      "TPU available: False, using: 0 TPU cores\n",
      "HPU available: False, using: 0 HPUs\n"
     ]
    },
    {
     "name": "stdout",
     "output_type": "stream",
     "text": [
      "28\n"
     ]
    },
    {
     "data": {
      "application/vnd.jupyter.widget-view+json": {
       "model_id": "b6991514fa7e47339600adc46381c95d",
       "version_major": 2,
       "version_minor": 0
      },
      "text/plain": [
       "Training: |                                                 | 0/? [00:00<?, ?it/s]"
      ]
     },
     "metadata": {},
     "output_type": "display_data"
    },
    {
     "name": "stderr",
     "output_type": "stream",
     "text": [
      "Using default `ModelCheckpoint`. Consider installing `litmodels` package to enable `LitModelCheckpoint` for automatic upload to the Lightning model registry.\n",
      "GPU available: True (mps), used: False\n",
      "TPU available: False, using: 0 TPU cores\n",
      "HPU available: False, using: 0 HPUs\n"
     ]
    },
    {
     "name": "stdout",
     "output_type": "stream",
     "text": [
      "29\n"
     ]
    },
    {
     "data": {
      "application/vnd.jupyter.widget-view+json": {
       "model_id": "23f6db7d3fba46058bac8e62363e3f1b",
       "version_major": 2,
       "version_minor": 0
      },
      "text/plain": [
       "Training: |                                                 | 0/? [00:00<?, ?it/s]"
      ]
     },
     "metadata": {},
     "output_type": "display_data"
    },
    {
     "name": "stderr",
     "output_type": "stream",
     "text": [
      "Using default `ModelCheckpoint`. Consider installing `litmodels` package to enable `LitModelCheckpoint` for automatic upload to the Lightning model registry.\n",
      "GPU available: True (mps), used: False\n",
      "TPU available: False, using: 0 TPU cores\n",
      "HPU available: False, using: 0 HPUs\n"
     ]
    },
    {
     "name": "stdout",
     "output_type": "stream",
     "text": [
      "30\n"
     ]
    },
    {
     "data": {
      "application/vnd.jupyter.widget-view+json": {
       "model_id": "89fc18de302e425ea4b7e2288aa38d59",
       "version_major": 2,
       "version_minor": 0
      },
      "text/plain": [
       "Training: |                                                 | 0/? [00:00<?, ?it/s]"
      ]
     },
     "metadata": {},
     "output_type": "display_data"
    },
    {
     "name": "stderr",
     "output_type": "stream",
     "text": [
      "Using default `ModelCheckpoint`. Consider installing `litmodels` package to enable `LitModelCheckpoint` for automatic upload to the Lightning model registry.\n",
      "GPU available: True (mps), used: False\n",
      "TPU available: False, using: 0 TPU cores\n",
      "HPU available: False, using: 0 HPUs\n"
     ]
    },
    {
     "name": "stdout",
     "output_type": "stream",
     "text": [
      "31\n"
     ]
    },
    {
     "data": {
      "application/vnd.jupyter.widget-view+json": {
       "model_id": "e8b83aa855a14c93b6b9b80f3d9e0f61",
       "version_major": 2,
       "version_minor": 0
      },
      "text/plain": [
       "Training: |                                                 | 0/? [00:00<?, ?it/s]"
      ]
     },
     "metadata": {},
     "output_type": "display_data"
    },
    {
     "name": "stderr",
     "output_type": "stream",
     "text": [
      "Using default `ModelCheckpoint`. Consider installing `litmodels` package to enable `LitModelCheckpoint` for automatic upload to the Lightning model registry.\n",
      "GPU available: True (mps), used: False\n",
      "TPU available: False, using: 0 TPU cores\n",
      "HPU available: False, using: 0 HPUs\n"
     ]
    },
    {
     "name": "stdout",
     "output_type": "stream",
     "text": [
      "32\n"
     ]
    },
    {
     "data": {
      "application/vnd.jupyter.widget-view+json": {
       "model_id": "76ea3d1d70434d5e8c418b28446281a3",
       "version_major": 2,
       "version_minor": 0
      },
      "text/plain": [
       "Training: |                                                 | 0/? [00:00<?, ?it/s]"
      ]
     },
     "metadata": {},
     "output_type": "display_data"
    },
    {
     "name": "stderr",
     "output_type": "stream",
     "text": [
      "Using default `ModelCheckpoint`. Consider installing `litmodels` package to enable `LitModelCheckpoint` for automatic upload to the Lightning model registry.\n",
      "GPU available: True (mps), used: False\n",
      "TPU available: False, using: 0 TPU cores\n",
      "HPU available: False, using: 0 HPUs\n"
     ]
    },
    {
     "name": "stdout",
     "output_type": "stream",
     "text": [
      "33\n"
     ]
    },
    {
     "data": {
      "application/vnd.jupyter.widget-view+json": {
       "model_id": "99eb7991a1e149d78df71047589e7a71",
       "version_major": 2,
       "version_minor": 0
      },
      "text/plain": [
       "Training: |                                                 | 0/? [00:00<?, ?it/s]"
      ]
     },
     "metadata": {},
     "output_type": "display_data"
    },
    {
     "name": "stderr",
     "output_type": "stream",
     "text": [
      "Using default `ModelCheckpoint`. Consider installing `litmodels` package to enable `LitModelCheckpoint` for automatic upload to the Lightning model registry.\n",
      "GPU available: True (mps), used: False\n",
      "TPU available: False, using: 0 TPU cores\n",
      "HPU available: False, using: 0 HPUs\n"
     ]
    },
    {
     "name": "stdout",
     "output_type": "stream",
     "text": [
      "34\n"
     ]
    },
    {
     "data": {
      "application/vnd.jupyter.widget-view+json": {
       "model_id": "28a4ddfec2194dd1a60319f748c81d9c",
       "version_major": 2,
       "version_minor": 0
      },
      "text/plain": [
       "Training: |                                                 | 0/? [00:00<?, ?it/s]"
      ]
     },
     "metadata": {},
     "output_type": "display_data"
    },
    {
     "name": "stderr",
     "output_type": "stream",
     "text": [
      "Using default `ModelCheckpoint`. Consider installing `litmodels` package to enable `LitModelCheckpoint` for automatic upload to the Lightning model registry.\n",
      "GPU available: True (mps), used: False\n",
      "TPU available: False, using: 0 TPU cores\n",
      "HPU available: False, using: 0 HPUs\n"
     ]
    },
    {
     "name": "stdout",
     "output_type": "stream",
     "text": [
      "35\n"
     ]
    },
    {
     "data": {
      "application/vnd.jupyter.widget-view+json": {
       "model_id": "e8c9376f63474d099d793e4c37f26c03",
       "version_major": 2,
       "version_minor": 0
      },
      "text/plain": [
       "Training: |                                                 | 0/? [00:00<?, ?it/s]"
      ]
     },
     "metadata": {},
     "output_type": "display_data"
    },
    {
     "name": "stderr",
     "output_type": "stream",
     "text": [
      "Using default `ModelCheckpoint`. Consider installing `litmodels` package to enable `LitModelCheckpoint` for automatic upload to the Lightning model registry.\n",
      "GPU available: True (mps), used: False\n",
      "TPU available: False, using: 0 TPU cores\n",
      "HPU available: False, using: 0 HPUs\n"
     ]
    },
    {
     "name": "stdout",
     "output_type": "stream",
     "text": [
      "36\n"
     ]
    },
    {
     "data": {
      "application/vnd.jupyter.widget-view+json": {
       "model_id": "9c430afcc11645a6bb3c208b67de2c9a",
       "version_major": 2,
       "version_minor": 0
      },
      "text/plain": [
       "Training: |                                                 | 0/? [00:00<?, ?it/s]"
      ]
     },
     "metadata": {},
     "output_type": "display_data"
    },
    {
     "name": "stderr",
     "output_type": "stream",
     "text": [
      "Using default `ModelCheckpoint`. Consider installing `litmodels` package to enable `LitModelCheckpoint` for automatic upload to the Lightning model registry.\n",
      "GPU available: True (mps), used: False\n",
      "TPU available: False, using: 0 TPU cores\n",
      "HPU available: False, using: 0 HPUs\n"
     ]
    },
    {
     "name": "stdout",
     "output_type": "stream",
     "text": [
      "37\n"
     ]
    },
    {
     "data": {
      "application/vnd.jupyter.widget-view+json": {
       "model_id": "bccdfa40f95b48edb3b798acb34ba775",
       "version_major": 2,
       "version_minor": 0
      },
      "text/plain": [
       "Training: |                                                 | 0/? [00:00<?, ?it/s]"
      ]
     },
     "metadata": {},
     "output_type": "display_data"
    },
    {
     "name": "stderr",
     "output_type": "stream",
     "text": [
      "Using default `ModelCheckpoint`. Consider installing `litmodels` package to enable `LitModelCheckpoint` for automatic upload to the Lightning model registry.\n",
      "GPU available: True (mps), used: False\n",
      "TPU available: False, using: 0 TPU cores\n",
      "HPU available: False, using: 0 HPUs\n"
     ]
    },
    {
     "name": "stdout",
     "output_type": "stream",
     "text": [
      "38\n"
     ]
    },
    {
     "data": {
      "application/vnd.jupyter.widget-view+json": {
       "model_id": "a1ba4090309740df9b15ac03d0a89cd7",
       "version_major": 2,
       "version_minor": 0
      },
      "text/plain": [
       "Training: |                                                 | 0/? [00:00<?, ?it/s]"
      ]
     },
     "metadata": {},
     "output_type": "display_data"
    },
    {
     "name": "stderr",
     "output_type": "stream",
     "text": [
      "Using default `ModelCheckpoint`. Consider installing `litmodels` package to enable `LitModelCheckpoint` for automatic upload to the Lightning model registry.\n",
      "GPU available: True (mps), used: False\n",
      "TPU available: False, using: 0 TPU cores\n",
      "HPU available: False, using: 0 HPUs\n"
     ]
    },
    {
     "name": "stdout",
     "output_type": "stream",
     "text": [
      "39\n"
     ]
    },
    {
     "data": {
      "application/vnd.jupyter.widget-view+json": {
       "model_id": "eeefb6d1ad7d4643ba779aa5f35daa64",
       "version_major": 2,
       "version_minor": 0
      },
      "text/plain": [
       "Training: |                                                 | 0/? [00:00<?, ?it/s]"
      ]
     },
     "metadata": {},
     "output_type": "display_data"
    },
    {
     "name": "stderr",
     "output_type": "stream",
     "text": [
      "Using default `ModelCheckpoint`. Consider installing `litmodels` package to enable `LitModelCheckpoint` for automatic upload to the Lightning model registry.\n",
      "GPU available: True (mps), used: False\n",
      "TPU available: False, using: 0 TPU cores\n",
      "HPU available: False, using: 0 HPUs\n"
     ]
    },
    {
     "name": "stdout",
     "output_type": "stream",
     "text": [
      "40\n"
     ]
    },
    {
     "data": {
      "application/vnd.jupyter.widget-view+json": {
       "model_id": "7774df52f97547b7a6119cd4f6e7db12",
       "version_major": 2,
       "version_minor": 0
      },
      "text/plain": [
       "Training: |                                                 | 0/? [00:00<?, ?it/s]"
      ]
     },
     "metadata": {},
     "output_type": "display_data"
    },
    {
     "name": "stderr",
     "output_type": "stream",
     "text": [
      "Using default `ModelCheckpoint`. Consider installing `litmodels` package to enable `LitModelCheckpoint` for automatic upload to the Lightning model registry.\n",
      "GPU available: True (mps), used: False\n",
      "TPU available: False, using: 0 TPU cores\n",
      "HPU available: False, using: 0 HPUs\n"
     ]
    },
    {
     "name": "stdout",
     "output_type": "stream",
     "text": [
      "41\n"
     ]
    },
    {
     "data": {
      "application/vnd.jupyter.widget-view+json": {
       "model_id": "d7cf1dd5eb534941a37517f912bb3de3",
       "version_major": 2,
       "version_minor": 0
      },
      "text/plain": [
       "Training: |                                                 | 0/? [00:00<?, ?it/s]"
      ]
     },
     "metadata": {},
     "output_type": "display_data"
    },
    {
     "name": "stderr",
     "output_type": "stream",
     "text": [
      "Using default `ModelCheckpoint`. Consider installing `litmodels` package to enable `LitModelCheckpoint` for automatic upload to the Lightning model registry.\n",
      "GPU available: True (mps), used: False\n",
      "TPU available: False, using: 0 TPU cores\n",
      "HPU available: False, using: 0 HPUs\n"
     ]
    },
    {
     "name": "stdout",
     "output_type": "stream",
     "text": [
      "42\n"
     ]
    },
    {
     "data": {
      "application/vnd.jupyter.widget-view+json": {
       "model_id": "acacbaf3484b46919094fb112884d930",
       "version_major": 2,
       "version_minor": 0
      },
      "text/plain": [
       "Training: |                                                 | 0/? [00:00<?, ?it/s]"
      ]
     },
     "metadata": {},
     "output_type": "display_data"
    },
    {
     "name": "stderr",
     "output_type": "stream",
     "text": [
      "Using default `ModelCheckpoint`. Consider installing `litmodels` package to enable `LitModelCheckpoint` for automatic upload to the Lightning model registry.\n",
      "GPU available: True (mps), used: False\n",
      "TPU available: False, using: 0 TPU cores\n",
      "HPU available: False, using: 0 HPUs\n"
     ]
    },
    {
     "name": "stdout",
     "output_type": "stream",
     "text": [
      "43\n"
     ]
    },
    {
     "data": {
      "application/vnd.jupyter.widget-view+json": {
       "model_id": "18c1548a77a74e6282f9ddac5f97057b",
       "version_major": 2,
       "version_minor": 0
      },
      "text/plain": [
       "Training: |                                                 | 0/? [00:00<?, ?it/s]"
      ]
     },
     "metadata": {},
     "output_type": "display_data"
    },
    {
     "name": "stderr",
     "output_type": "stream",
     "text": [
      "Using default `ModelCheckpoint`. Consider installing `litmodels` package to enable `LitModelCheckpoint` for automatic upload to the Lightning model registry.\n",
      "GPU available: True (mps), used: False\n",
      "TPU available: False, using: 0 TPU cores\n",
      "HPU available: False, using: 0 HPUs\n"
     ]
    },
    {
     "name": "stdout",
     "output_type": "stream",
     "text": [
      "44\n"
     ]
    },
    {
     "data": {
      "application/vnd.jupyter.widget-view+json": {
       "model_id": "b2843765c5cf4e4b8becf8b710f27e8c",
       "version_major": 2,
       "version_minor": 0
      },
      "text/plain": [
       "Training: |                                                 | 0/? [00:00<?, ?it/s]"
      ]
     },
     "metadata": {},
     "output_type": "display_data"
    },
    {
     "name": "stderr",
     "output_type": "stream",
     "text": [
      "Using default `ModelCheckpoint`. Consider installing `litmodels` package to enable `LitModelCheckpoint` for automatic upload to the Lightning model registry.\n",
      "GPU available: True (mps), used: False\n",
      "TPU available: False, using: 0 TPU cores\n",
      "HPU available: False, using: 0 HPUs\n"
     ]
    },
    {
     "name": "stdout",
     "output_type": "stream",
     "text": [
      "45\n"
     ]
    },
    {
     "data": {
      "application/vnd.jupyter.widget-view+json": {
       "model_id": "611df1e4f94e41fbaed39b4ef1276b88",
       "version_major": 2,
       "version_minor": 0
      },
      "text/plain": [
       "Training: |                                                 | 0/? [00:00<?, ?it/s]"
      ]
     },
     "metadata": {},
     "output_type": "display_data"
    },
    {
     "name": "stderr",
     "output_type": "stream",
     "text": [
      "Using default `ModelCheckpoint`. Consider installing `litmodels` package to enable `LitModelCheckpoint` for automatic upload to the Lightning model registry.\n",
      "GPU available: True (mps), used: False\n",
      "TPU available: False, using: 0 TPU cores\n",
      "HPU available: False, using: 0 HPUs\n"
     ]
    },
    {
     "name": "stdout",
     "output_type": "stream",
     "text": [
      "46\n"
     ]
    },
    {
     "data": {
      "application/vnd.jupyter.widget-view+json": {
       "model_id": "b14c74e1941f4830ba84507dba57ff43",
       "version_major": 2,
       "version_minor": 0
      },
      "text/plain": [
       "Training: |                                                 | 0/? [00:00<?, ?it/s]"
      ]
     },
     "metadata": {},
     "output_type": "display_data"
    },
    {
     "name": "stderr",
     "output_type": "stream",
     "text": [
      "Using default `ModelCheckpoint`. Consider installing `litmodels` package to enable `LitModelCheckpoint` for automatic upload to the Lightning model registry.\n",
      "GPU available: True (mps), used: False\n",
      "TPU available: False, using: 0 TPU cores\n",
      "HPU available: False, using: 0 HPUs\n"
     ]
    },
    {
     "name": "stdout",
     "output_type": "stream",
     "text": [
      "47\n"
     ]
    },
    {
     "data": {
      "application/vnd.jupyter.widget-view+json": {
       "model_id": "a2edf2d5fe304c8a8efc1ce1b1efa954",
       "version_major": 2,
       "version_minor": 0
      },
      "text/plain": [
       "Training: |                                                 | 0/? [00:00<?, ?it/s]"
      ]
     },
     "metadata": {},
     "output_type": "display_data"
    },
    {
     "name": "stderr",
     "output_type": "stream",
     "text": [
      "Using default `ModelCheckpoint`. Consider installing `litmodels` package to enable `LitModelCheckpoint` for automatic upload to the Lightning model registry.\n",
      "GPU available: True (mps), used: False\n",
      "TPU available: False, using: 0 TPU cores\n",
      "HPU available: False, using: 0 HPUs\n"
     ]
    },
    {
     "name": "stdout",
     "output_type": "stream",
     "text": [
      "48\n"
     ]
    },
    {
     "data": {
      "application/vnd.jupyter.widget-view+json": {
       "model_id": "61fd920d78a94cb7aca64bba6d9f1482",
       "version_major": 2,
       "version_minor": 0
      },
      "text/plain": [
       "Training: |                                                 | 0/? [00:00<?, ?it/s]"
      ]
     },
     "metadata": {},
     "output_type": "display_data"
    },
    {
     "name": "stderr",
     "output_type": "stream",
     "text": [
      "Using default `ModelCheckpoint`. Consider installing `litmodels` package to enable `LitModelCheckpoint` for automatic upload to the Lightning model registry.\n",
      "GPU available: True (mps), used: False\n",
      "TPU available: False, using: 0 TPU cores\n",
      "HPU available: False, using: 0 HPUs\n"
     ]
    },
    {
     "name": "stdout",
     "output_type": "stream",
     "text": [
      "49\n"
     ]
    },
    {
     "data": {
      "application/vnd.jupyter.widget-view+json": {
       "model_id": "f9afc088f8174e51a479b18b0f2254df",
       "version_major": 2,
       "version_minor": 0
      },
      "text/plain": [
       "Training: |                                                 | 0/? [00:00<?, ?it/s]"
      ]
     },
     "metadata": {},
     "output_type": "display_data"
    },
    {
     "name": "stderr",
     "output_type": "stream",
     "text": [
      "Using default `ModelCheckpoint`. Consider installing `litmodels` package to enable `LitModelCheckpoint` for automatic upload to the Lightning model registry.\n",
      "GPU available: True (mps), used: False\n",
      "TPU available: False, using: 0 TPU cores\n",
      "HPU available: False, using: 0 HPUs\n"
     ]
    },
    {
     "name": "stdout",
     "output_type": "stream",
     "text": [
      "50\n"
     ]
    },
    {
     "data": {
      "application/vnd.jupyter.widget-view+json": {
       "model_id": "3aae4ce173d6469c97767547c0ec622d",
       "version_major": 2,
       "version_minor": 0
      },
      "text/plain": [
       "Training: |                                                 | 0/? [00:00<?, ?it/s]"
      ]
     },
     "metadata": {},
     "output_type": "display_data"
    },
    {
     "name": "stderr",
     "output_type": "stream",
     "text": [
      "Using default `ModelCheckpoint`. Consider installing `litmodels` package to enable `LitModelCheckpoint` for automatic upload to the Lightning model registry.\n",
      "GPU available: True (mps), used: False\n",
      "TPU available: False, using: 0 TPU cores\n",
      "HPU available: False, using: 0 HPUs\n"
     ]
    },
    {
     "name": "stdout",
     "output_type": "stream",
     "text": [
      "51\n"
     ]
    },
    {
     "data": {
      "application/vnd.jupyter.widget-view+json": {
       "model_id": "726d6b8bda694a0791faeaffb5893f9a",
       "version_major": 2,
       "version_minor": 0
      },
      "text/plain": [
       "Training: |                                                 | 0/? [00:00<?, ?it/s]"
      ]
     },
     "metadata": {},
     "output_type": "display_data"
    },
    {
     "name": "stderr",
     "output_type": "stream",
     "text": [
      "Using default `ModelCheckpoint`. Consider installing `litmodels` package to enable `LitModelCheckpoint` for automatic upload to the Lightning model registry.\n",
      "GPU available: True (mps), used: False\n",
      "TPU available: False, using: 0 TPU cores\n",
      "HPU available: False, using: 0 HPUs\n"
     ]
    },
    {
     "name": "stdout",
     "output_type": "stream",
     "text": [
      "52\n"
     ]
    },
    {
     "data": {
      "application/vnd.jupyter.widget-view+json": {
       "model_id": "ad37f0ccf2b847439d9657161bcac3dc",
       "version_major": 2,
       "version_minor": 0
      },
      "text/plain": [
       "Training: |                                                 | 0/? [00:00<?, ?it/s]"
      ]
     },
     "metadata": {},
     "output_type": "display_data"
    },
    {
     "name": "stderr",
     "output_type": "stream",
     "text": [
      "Using default `ModelCheckpoint`. Consider installing `litmodels` package to enable `LitModelCheckpoint` for automatic upload to the Lightning model registry.\n",
      "GPU available: True (mps), used: False\n",
      "TPU available: False, using: 0 TPU cores\n",
      "HPU available: False, using: 0 HPUs\n"
     ]
    },
    {
     "name": "stdout",
     "output_type": "stream",
     "text": [
      "53\n"
     ]
    },
    {
     "data": {
      "application/vnd.jupyter.widget-view+json": {
       "model_id": "6dd5412929054c83944d498ae47f0e75",
       "version_major": 2,
       "version_minor": 0
      },
      "text/plain": [
       "Training: |                                                 | 0/? [00:00<?, ?it/s]"
      ]
     },
     "metadata": {},
     "output_type": "display_data"
    },
    {
     "name": "stderr",
     "output_type": "stream",
     "text": [
      "Using default `ModelCheckpoint`. Consider installing `litmodels` package to enable `LitModelCheckpoint` for automatic upload to the Lightning model registry.\n",
      "GPU available: True (mps), used: False\n",
      "TPU available: False, using: 0 TPU cores\n",
      "HPU available: False, using: 0 HPUs\n"
     ]
    },
    {
     "name": "stdout",
     "output_type": "stream",
     "text": [
      "54\n"
     ]
    },
    {
     "data": {
      "application/vnd.jupyter.widget-view+json": {
       "model_id": "4a995df6b79748938a515f8ba7b394b4",
       "version_major": 2,
       "version_minor": 0
      },
      "text/plain": [
       "Training: |                                                 | 0/? [00:00<?, ?it/s]"
      ]
     },
     "metadata": {},
     "output_type": "display_data"
    },
    {
     "name": "stderr",
     "output_type": "stream",
     "text": [
      "Using default `ModelCheckpoint`. Consider installing `litmodels` package to enable `LitModelCheckpoint` for automatic upload to the Lightning model registry.\n",
      "GPU available: True (mps), used: False\n",
      "TPU available: False, using: 0 TPU cores\n",
      "HPU available: False, using: 0 HPUs\n"
     ]
    },
    {
     "name": "stdout",
     "output_type": "stream",
     "text": [
      "55\n"
     ]
    },
    {
     "data": {
      "application/vnd.jupyter.widget-view+json": {
       "model_id": "a35a53ff15944ece9fefa89bae26656a",
       "version_major": 2,
       "version_minor": 0
      },
      "text/plain": [
       "Training: |                                                 | 0/? [00:00<?, ?it/s]"
      ]
     },
     "metadata": {},
     "output_type": "display_data"
    },
    {
     "name": "stderr",
     "output_type": "stream",
     "text": [
      "Using default `ModelCheckpoint`. Consider installing `litmodels` package to enable `LitModelCheckpoint` for automatic upload to the Lightning model registry.\n",
      "GPU available: True (mps), used: False\n",
      "TPU available: False, using: 0 TPU cores\n",
      "HPU available: False, using: 0 HPUs\n"
     ]
    },
    {
     "name": "stdout",
     "output_type": "stream",
     "text": [
      "56\n"
     ]
    },
    {
     "data": {
      "application/vnd.jupyter.widget-view+json": {
       "model_id": "6272c69bf31b4a409fa1132c766840d2",
       "version_major": 2,
       "version_minor": 0
      },
      "text/plain": [
       "Training: |                                                 | 0/? [00:00<?, ?it/s]"
      ]
     },
     "metadata": {},
     "output_type": "display_data"
    },
    {
     "name": "stderr",
     "output_type": "stream",
     "text": [
      "Using default `ModelCheckpoint`. Consider installing `litmodels` package to enable `LitModelCheckpoint` for automatic upload to the Lightning model registry.\n",
      "GPU available: True (mps), used: False\n",
      "TPU available: False, using: 0 TPU cores\n",
      "HPU available: False, using: 0 HPUs\n"
     ]
    },
    {
     "name": "stdout",
     "output_type": "stream",
     "text": [
      "57\n"
     ]
    },
    {
     "data": {
      "application/vnd.jupyter.widget-view+json": {
       "model_id": "2b726c81350444a58c40fde115368e70",
       "version_major": 2,
       "version_minor": 0
      },
      "text/plain": [
       "Training: |                                                 | 0/? [00:00<?, ?it/s]"
      ]
     },
     "metadata": {},
     "output_type": "display_data"
    },
    {
     "name": "stderr",
     "output_type": "stream",
     "text": [
      "Using default `ModelCheckpoint`. Consider installing `litmodels` package to enable `LitModelCheckpoint` for automatic upload to the Lightning model registry.\n",
      "GPU available: True (mps), used: False\n",
      "TPU available: False, using: 0 TPU cores\n",
      "HPU available: False, using: 0 HPUs\n"
     ]
    },
    {
     "name": "stdout",
     "output_type": "stream",
     "text": [
      "58\n"
     ]
    },
    {
     "data": {
      "application/vnd.jupyter.widget-view+json": {
       "model_id": "8db9445011674778bb0808f6670022c5",
       "version_major": 2,
       "version_minor": 0
      },
      "text/plain": [
       "Training: |                                                 | 0/? [00:00<?, ?it/s]"
      ]
     },
     "metadata": {},
     "output_type": "display_data"
    },
    {
     "name": "stderr",
     "output_type": "stream",
     "text": [
      "Using default `ModelCheckpoint`. Consider installing `litmodels` package to enable `LitModelCheckpoint` for automatic upload to the Lightning model registry.\n",
      "GPU available: True (mps), used: False\n",
      "TPU available: False, using: 0 TPU cores\n",
      "HPU available: False, using: 0 HPUs\n"
     ]
    },
    {
     "name": "stdout",
     "output_type": "stream",
     "text": [
      "59\n"
     ]
    },
    {
     "data": {
      "application/vnd.jupyter.widget-view+json": {
       "model_id": "16a19031198344a8936bfc2dd7868568",
       "version_major": 2,
       "version_minor": 0
      },
      "text/plain": [
       "Training: |                                                 | 0/? [00:00<?, ?it/s]"
      ]
     },
     "metadata": {},
     "output_type": "display_data"
    },
    {
     "name": "stderr",
     "output_type": "stream",
     "text": [
      "Using default `ModelCheckpoint`. Consider installing `litmodels` package to enable `LitModelCheckpoint` for automatic upload to the Lightning model registry.\n",
      "GPU available: True (mps), used: False\n",
      "TPU available: False, using: 0 TPU cores\n",
      "HPU available: False, using: 0 HPUs\n"
     ]
    },
    {
     "name": "stdout",
     "output_type": "stream",
     "text": [
      "60\n"
     ]
    },
    {
     "data": {
      "application/vnd.jupyter.widget-view+json": {
       "model_id": "ff21af8977544f3c8ec561b44fc6f7af",
       "version_major": 2,
       "version_minor": 0
      },
      "text/plain": [
       "Training: |                                                 | 0/? [00:00<?, ?it/s]"
      ]
     },
     "metadata": {},
     "output_type": "display_data"
    },
    {
     "name": "stderr",
     "output_type": "stream",
     "text": [
      "Using default `ModelCheckpoint`. Consider installing `litmodels` package to enable `LitModelCheckpoint` for automatic upload to the Lightning model registry.\n",
      "GPU available: True (mps), used: False\n",
      "TPU available: False, using: 0 TPU cores\n",
      "HPU available: False, using: 0 HPUs\n"
     ]
    },
    {
     "name": "stdout",
     "output_type": "stream",
     "text": [
      "61\n"
     ]
    },
    {
     "data": {
      "application/vnd.jupyter.widget-view+json": {
       "model_id": "28a44cbfe413495eb46d69324bdef3ce",
       "version_major": 2,
       "version_minor": 0
      },
      "text/plain": [
       "Training: |                                                 | 0/? [00:00<?, ?it/s]"
      ]
     },
     "metadata": {},
     "output_type": "display_data"
    },
    {
     "name": "stderr",
     "output_type": "stream",
     "text": [
      "Using default `ModelCheckpoint`. Consider installing `litmodels` package to enable `LitModelCheckpoint` for automatic upload to the Lightning model registry.\n",
      "GPU available: True (mps), used: False\n",
      "TPU available: False, using: 0 TPU cores\n",
      "HPU available: False, using: 0 HPUs\n"
     ]
    },
    {
     "name": "stdout",
     "output_type": "stream",
     "text": [
      "62\n"
     ]
    },
    {
     "data": {
      "application/vnd.jupyter.widget-view+json": {
       "model_id": "276d8e564ff1431db1024b13575000b1",
       "version_major": 2,
       "version_minor": 0
      },
      "text/plain": [
       "Training: |                                                 | 0/? [00:00<?, ?it/s]"
      ]
     },
     "metadata": {},
     "output_type": "display_data"
    },
    {
     "name": "stderr",
     "output_type": "stream",
     "text": [
      "Using default `ModelCheckpoint`. Consider installing `litmodels` package to enable `LitModelCheckpoint` for automatic upload to the Lightning model registry.\n",
      "GPU available: True (mps), used: False\n",
      "TPU available: False, using: 0 TPU cores\n",
      "HPU available: False, using: 0 HPUs\n"
     ]
    },
    {
     "name": "stdout",
     "output_type": "stream",
     "text": [
      "63\n"
     ]
    },
    {
     "data": {
      "application/vnd.jupyter.widget-view+json": {
       "model_id": "a6a2283dcda345b2a033bc858f978040",
       "version_major": 2,
       "version_minor": 0
      },
      "text/plain": [
       "Training: |                                                 | 0/? [00:00<?, ?it/s]"
      ]
     },
     "metadata": {},
     "output_type": "display_data"
    },
    {
     "name": "stderr",
     "output_type": "stream",
     "text": [
      "Using default `ModelCheckpoint`. Consider installing `litmodels` package to enable `LitModelCheckpoint` for automatic upload to the Lightning model registry.\n",
      "GPU available: True (mps), used: False\n",
      "TPU available: False, using: 0 TPU cores\n",
      "HPU available: False, using: 0 HPUs\n"
     ]
    },
    {
     "name": "stdout",
     "output_type": "stream",
     "text": [
      "64\n"
     ]
    },
    {
     "data": {
      "application/vnd.jupyter.widget-view+json": {
       "model_id": "04d8f89c58514f4495b0c8fca36c2f1b",
       "version_major": 2,
       "version_minor": 0
      },
      "text/plain": [
       "Training: |                                                 | 0/? [00:00<?, ?it/s]"
      ]
     },
     "metadata": {},
     "output_type": "display_data"
    },
    {
     "name": "stderr",
     "output_type": "stream",
     "text": [
      "Using default `ModelCheckpoint`. Consider installing `litmodels` package to enable `LitModelCheckpoint` for automatic upload to the Lightning model registry.\n",
      "GPU available: True (mps), used: False\n",
      "TPU available: False, using: 0 TPU cores\n",
      "HPU available: False, using: 0 HPUs\n"
     ]
    },
    {
     "name": "stdout",
     "output_type": "stream",
     "text": [
      "65\n"
     ]
    },
    {
     "data": {
      "application/vnd.jupyter.widget-view+json": {
       "model_id": "cbaa55a9d9574a06992366990a885feb",
       "version_major": 2,
       "version_minor": 0
      },
      "text/plain": [
       "Training: |                                                 | 0/? [00:00<?, ?it/s]"
      ]
     },
     "metadata": {},
     "output_type": "display_data"
    },
    {
     "name": "stderr",
     "output_type": "stream",
     "text": [
      "Using default `ModelCheckpoint`. Consider installing `litmodels` package to enable `LitModelCheckpoint` for automatic upload to the Lightning model registry.\n",
      "GPU available: True (mps), used: False\n",
      "TPU available: False, using: 0 TPU cores\n",
      "HPU available: False, using: 0 HPUs\n"
     ]
    },
    {
     "name": "stdout",
     "output_type": "stream",
     "text": [
      "66\n"
     ]
    },
    {
     "data": {
      "application/vnd.jupyter.widget-view+json": {
       "model_id": "97685288aeee4a9a8aa4cff420fb2be7",
       "version_major": 2,
       "version_minor": 0
      },
      "text/plain": [
       "Training: |                                                 | 0/? [00:00<?, ?it/s]"
      ]
     },
     "metadata": {},
     "output_type": "display_data"
    },
    {
     "name": "stderr",
     "output_type": "stream",
     "text": [
      "Using default `ModelCheckpoint`. Consider installing `litmodels` package to enable `LitModelCheckpoint` for automatic upload to the Lightning model registry.\n",
      "GPU available: True (mps), used: False\n",
      "TPU available: False, using: 0 TPU cores\n",
      "HPU available: False, using: 0 HPUs\n"
     ]
    },
    {
     "name": "stdout",
     "output_type": "stream",
     "text": [
      "67\n"
     ]
    },
    {
     "data": {
      "application/vnd.jupyter.widget-view+json": {
       "model_id": "80d612f0a251457eb5552554d92ff49a",
       "version_major": 2,
       "version_minor": 0
      },
      "text/plain": [
       "Training: |                                                 | 0/? [00:00<?, ?it/s]"
      ]
     },
     "metadata": {},
     "output_type": "display_data"
    },
    {
     "name": "stderr",
     "output_type": "stream",
     "text": [
      "Using default `ModelCheckpoint`. Consider installing `litmodels` package to enable `LitModelCheckpoint` for automatic upload to the Lightning model registry.\n",
      "GPU available: True (mps), used: False\n",
      "TPU available: False, using: 0 TPU cores\n",
      "HPU available: False, using: 0 HPUs\n"
     ]
    },
    {
     "name": "stdout",
     "output_type": "stream",
     "text": [
      "68\n"
     ]
    },
    {
     "data": {
      "application/vnd.jupyter.widget-view+json": {
       "model_id": "fb1a70accb3546e291a3e6d424980365",
       "version_major": 2,
       "version_minor": 0
      },
      "text/plain": [
       "Training: |                                                 | 0/? [00:00<?, ?it/s]"
      ]
     },
     "metadata": {},
     "output_type": "display_data"
    },
    {
     "name": "stderr",
     "output_type": "stream",
     "text": [
      "Using default `ModelCheckpoint`. Consider installing `litmodels` package to enable `LitModelCheckpoint` for automatic upload to the Lightning model registry.\n",
      "GPU available: True (mps), used: False\n",
      "TPU available: False, using: 0 TPU cores\n",
      "HPU available: False, using: 0 HPUs\n"
     ]
    },
    {
     "name": "stdout",
     "output_type": "stream",
     "text": [
      "69\n"
     ]
    },
    {
     "data": {
      "application/vnd.jupyter.widget-view+json": {
       "model_id": "20e02268697a459aad34af1c57065b45",
       "version_major": 2,
       "version_minor": 0
      },
      "text/plain": [
       "Training: |                                                 | 0/? [00:00<?, ?it/s]"
      ]
     },
     "metadata": {},
     "output_type": "display_data"
    },
    {
     "name": "stderr",
     "output_type": "stream",
     "text": [
      "Using default `ModelCheckpoint`. Consider installing `litmodels` package to enable `LitModelCheckpoint` for automatic upload to the Lightning model registry.\n",
      "GPU available: True (mps), used: False\n",
      "TPU available: False, using: 0 TPU cores\n",
      "HPU available: False, using: 0 HPUs\n"
     ]
    },
    {
     "name": "stdout",
     "output_type": "stream",
     "text": [
      "70\n"
     ]
    },
    {
     "data": {
      "application/vnd.jupyter.widget-view+json": {
       "model_id": "2a30824c68604e6487e002e70056402f",
       "version_major": 2,
       "version_minor": 0
      },
      "text/plain": [
       "Training: |                                                 | 0/? [00:00<?, ?it/s]"
      ]
     },
     "metadata": {},
     "output_type": "display_data"
    },
    {
     "name": "stderr",
     "output_type": "stream",
     "text": [
      "Using default `ModelCheckpoint`. Consider installing `litmodels` package to enable `LitModelCheckpoint` for automatic upload to the Lightning model registry.\n",
      "GPU available: True (mps), used: False\n",
      "TPU available: False, using: 0 TPU cores\n",
      "HPU available: False, using: 0 HPUs\n"
     ]
    },
    {
     "name": "stdout",
     "output_type": "stream",
     "text": [
      "71\n"
     ]
    },
    {
     "data": {
      "application/vnd.jupyter.widget-view+json": {
       "model_id": "1d8d1cf8f1704a0ea36a6144aa368697",
       "version_major": 2,
       "version_minor": 0
      },
      "text/plain": [
       "Training: |                                                 | 0/? [00:00<?, ?it/s]"
      ]
     },
     "metadata": {},
     "output_type": "display_data"
    },
    {
     "name": "stderr",
     "output_type": "stream",
     "text": [
      "Using default `ModelCheckpoint`. Consider installing `litmodels` package to enable `LitModelCheckpoint` for automatic upload to the Lightning model registry.\n",
      "GPU available: True (mps), used: False\n",
      "TPU available: False, using: 0 TPU cores\n",
      "HPU available: False, using: 0 HPUs\n"
     ]
    },
    {
     "name": "stdout",
     "output_type": "stream",
     "text": [
      "72\n"
     ]
    },
    {
     "data": {
      "application/vnd.jupyter.widget-view+json": {
       "model_id": "651d4279a964401281893c60e627992f",
       "version_major": 2,
       "version_minor": 0
      },
      "text/plain": [
       "Training: |                                                 | 0/? [00:00<?, ?it/s]"
      ]
     },
     "metadata": {},
     "output_type": "display_data"
    },
    {
     "name": "stderr",
     "output_type": "stream",
     "text": [
      "Using default `ModelCheckpoint`. Consider installing `litmodels` package to enable `LitModelCheckpoint` for automatic upload to the Lightning model registry.\n",
      "GPU available: True (mps), used: False\n",
      "TPU available: False, using: 0 TPU cores\n",
      "HPU available: False, using: 0 HPUs\n"
     ]
    },
    {
     "name": "stdout",
     "output_type": "stream",
     "text": [
      "73\n"
     ]
    },
    {
     "data": {
      "application/vnd.jupyter.widget-view+json": {
       "model_id": "ec4cf982807140be8b97b26fa2ec2a25",
       "version_major": 2,
       "version_minor": 0
      },
      "text/plain": [
       "Training: |                                                 | 0/? [00:00<?, ?it/s]"
      ]
     },
     "metadata": {},
     "output_type": "display_data"
    },
    {
     "name": "stderr",
     "output_type": "stream",
     "text": [
      "Using default `ModelCheckpoint`. Consider installing `litmodels` package to enable `LitModelCheckpoint` for automatic upload to the Lightning model registry.\n",
      "GPU available: True (mps), used: False\n",
      "TPU available: False, using: 0 TPU cores\n",
      "HPU available: False, using: 0 HPUs\n"
     ]
    },
    {
     "name": "stdout",
     "output_type": "stream",
     "text": [
      "74\n"
     ]
    },
    {
     "data": {
      "application/vnd.jupyter.widget-view+json": {
       "model_id": "0735ccde7b3f4ec5bab314174db4448f",
       "version_major": 2,
       "version_minor": 0
      },
      "text/plain": [
       "Training: |                                                 | 0/? [00:00<?, ?it/s]"
      ]
     },
     "metadata": {},
     "output_type": "display_data"
    },
    {
     "name": "stderr",
     "output_type": "stream",
     "text": [
      "Using default `ModelCheckpoint`. Consider installing `litmodels` package to enable `LitModelCheckpoint` for automatic upload to the Lightning model registry.\n",
      "GPU available: True (mps), used: False\n",
      "TPU available: False, using: 0 TPU cores\n",
      "HPU available: False, using: 0 HPUs\n"
     ]
    },
    {
     "name": "stdout",
     "output_type": "stream",
     "text": [
      "75\n"
     ]
    },
    {
     "data": {
      "application/vnd.jupyter.widget-view+json": {
       "model_id": "204313452ee34c74b2db0399f653758c",
       "version_major": 2,
       "version_minor": 0
      },
      "text/plain": [
       "Training: |                                                 | 0/? [00:00<?, ?it/s]"
      ]
     },
     "metadata": {},
     "output_type": "display_data"
    },
    {
     "name": "stderr",
     "output_type": "stream",
     "text": [
      "Using default `ModelCheckpoint`. Consider installing `litmodels` package to enable `LitModelCheckpoint` for automatic upload to the Lightning model registry.\n",
      "GPU available: True (mps), used: False\n",
      "TPU available: False, using: 0 TPU cores\n",
      "HPU available: False, using: 0 HPUs\n"
     ]
    },
    {
     "name": "stdout",
     "output_type": "stream",
     "text": [
      "76\n"
     ]
    },
    {
     "data": {
      "application/vnd.jupyter.widget-view+json": {
       "model_id": "a3121903ff3f47d6bae8b8f77de0391d",
       "version_major": 2,
       "version_minor": 0
      },
      "text/plain": [
       "Training: |                                                 | 0/? [00:00<?, ?it/s]"
      ]
     },
     "metadata": {},
     "output_type": "display_data"
    },
    {
     "name": "stderr",
     "output_type": "stream",
     "text": [
      "Using default `ModelCheckpoint`. Consider installing `litmodels` package to enable `LitModelCheckpoint` for automatic upload to the Lightning model registry.\n",
      "GPU available: True (mps), used: False\n",
      "TPU available: False, using: 0 TPU cores\n",
      "HPU available: False, using: 0 HPUs\n"
     ]
    },
    {
     "name": "stdout",
     "output_type": "stream",
     "text": [
      "77\n"
     ]
    },
    {
     "data": {
      "application/vnd.jupyter.widget-view+json": {
       "model_id": "4e09d9b6ec5b45519648c3be7bdc4070",
       "version_major": 2,
       "version_minor": 0
      },
      "text/plain": [
       "Training: |                                                 | 0/? [00:00<?, ?it/s]"
      ]
     },
     "metadata": {},
     "output_type": "display_data"
    },
    {
     "name": "stderr",
     "output_type": "stream",
     "text": [
      "Using default `ModelCheckpoint`. Consider installing `litmodels` package to enable `LitModelCheckpoint` for automatic upload to the Lightning model registry.\n",
      "GPU available: True (mps), used: False\n",
      "TPU available: False, using: 0 TPU cores\n",
      "HPU available: False, using: 0 HPUs\n"
     ]
    },
    {
     "name": "stdout",
     "output_type": "stream",
     "text": [
      "78\n"
     ]
    },
    {
     "data": {
      "application/vnd.jupyter.widget-view+json": {
       "model_id": "74f97d9b935d4c60afbabd935aa0ab98",
       "version_major": 2,
       "version_minor": 0
      },
      "text/plain": [
       "Training: |                                                 | 0/? [00:00<?, ?it/s]"
      ]
     },
     "metadata": {},
     "output_type": "display_data"
    },
    {
     "name": "stderr",
     "output_type": "stream",
     "text": [
      "Using default `ModelCheckpoint`. Consider installing `litmodels` package to enable `LitModelCheckpoint` for automatic upload to the Lightning model registry.\n",
      "GPU available: True (mps), used: False\n",
      "TPU available: False, using: 0 TPU cores\n",
      "HPU available: False, using: 0 HPUs\n"
     ]
    },
    {
     "name": "stdout",
     "output_type": "stream",
     "text": [
      "79\n"
     ]
    },
    {
     "data": {
      "application/vnd.jupyter.widget-view+json": {
       "model_id": "ab73e88c2af84dd9b04a03b901de47ad",
       "version_major": 2,
       "version_minor": 0
      },
      "text/plain": [
       "Training: |                                                 | 0/? [00:00<?, ?it/s]"
      ]
     },
     "metadata": {},
     "output_type": "display_data"
    },
    {
     "name": "stderr",
     "output_type": "stream",
     "text": [
      "Using default `ModelCheckpoint`. Consider installing `litmodels` package to enable `LitModelCheckpoint` for automatic upload to the Lightning model registry.\n",
      "GPU available: True (mps), used: False\n",
      "TPU available: False, using: 0 TPU cores\n",
      "HPU available: False, using: 0 HPUs\n"
     ]
    },
    {
     "name": "stdout",
     "output_type": "stream",
     "text": [
      "80\n"
     ]
    },
    {
     "data": {
      "application/vnd.jupyter.widget-view+json": {
       "model_id": "8ad94b6571564138a3d2d0f7143ddc0c",
       "version_major": 2,
       "version_minor": 0
      },
      "text/plain": [
       "Training: |                                                 | 0/? [00:00<?, ?it/s]"
      ]
     },
     "metadata": {},
     "output_type": "display_data"
    },
    {
     "name": "stderr",
     "output_type": "stream",
     "text": [
      "Using default `ModelCheckpoint`. Consider installing `litmodels` package to enable `LitModelCheckpoint` for automatic upload to the Lightning model registry.\n",
      "GPU available: True (mps), used: False\n",
      "TPU available: False, using: 0 TPU cores\n",
      "HPU available: False, using: 0 HPUs\n"
     ]
    },
    {
     "name": "stdout",
     "output_type": "stream",
     "text": [
      "81\n"
     ]
    },
    {
     "data": {
      "application/vnd.jupyter.widget-view+json": {
       "model_id": "c485a14c86da40cea5b42df810b67b1d",
       "version_major": 2,
       "version_minor": 0
      },
      "text/plain": [
       "Training: |                                                 | 0/? [00:00<?, ?it/s]"
      ]
     },
     "metadata": {},
     "output_type": "display_data"
    },
    {
     "name": "stderr",
     "output_type": "stream",
     "text": [
      "Using default `ModelCheckpoint`. Consider installing `litmodels` package to enable `LitModelCheckpoint` for automatic upload to the Lightning model registry.\n",
      "GPU available: True (mps), used: False\n",
      "TPU available: False, using: 0 TPU cores\n",
      "HPU available: False, using: 0 HPUs\n"
     ]
    },
    {
     "name": "stdout",
     "output_type": "stream",
     "text": [
      "82\n"
     ]
    },
    {
     "data": {
      "application/vnd.jupyter.widget-view+json": {
       "model_id": "0824aa22bb7a44f8a5a1733dd1ff3027",
       "version_major": 2,
       "version_minor": 0
      },
      "text/plain": [
       "Training: |                                                 | 0/? [00:00<?, ?it/s]"
      ]
     },
     "metadata": {},
     "output_type": "display_data"
    },
    {
     "name": "stderr",
     "output_type": "stream",
     "text": [
      "Using default `ModelCheckpoint`. Consider installing `litmodels` package to enable `LitModelCheckpoint` for automatic upload to the Lightning model registry.\n",
      "GPU available: True (mps), used: False\n",
      "TPU available: False, using: 0 TPU cores\n",
      "HPU available: False, using: 0 HPUs\n"
     ]
    },
    {
     "name": "stdout",
     "output_type": "stream",
     "text": [
      "83\n"
     ]
    },
    {
     "data": {
      "application/vnd.jupyter.widget-view+json": {
       "model_id": "75a9f2980ed04478a4c8abecaeebc91b",
       "version_major": 2,
       "version_minor": 0
      },
      "text/plain": [
       "Training: |                                                 | 0/? [00:00<?, ?it/s]"
      ]
     },
     "metadata": {},
     "output_type": "display_data"
    },
    {
     "name": "stderr",
     "output_type": "stream",
     "text": [
      "Using default `ModelCheckpoint`. Consider installing `litmodels` package to enable `LitModelCheckpoint` for automatic upload to the Lightning model registry.\n",
      "GPU available: True (mps), used: False\n",
      "TPU available: False, using: 0 TPU cores\n",
      "HPU available: False, using: 0 HPUs\n"
     ]
    },
    {
     "name": "stdout",
     "output_type": "stream",
     "text": [
      "84\n"
     ]
    },
    {
     "data": {
      "application/vnd.jupyter.widget-view+json": {
       "model_id": "575c458f1aba4759a73436faa41bae6a",
       "version_major": 2,
       "version_minor": 0
      },
      "text/plain": [
       "Training: |                                                 | 0/? [00:00<?, ?it/s]"
      ]
     },
     "metadata": {},
     "output_type": "display_data"
    },
    {
     "name": "stderr",
     "output_type": "stream",
     "text": [
      "Using default `ModelCheckpoint`. Consider installing `litmodels` package to enable `LitModelCheckpoint` for automatic upload to the Lightning model registry.\n",
      "GPU available: True (mps), used: False\n",
      "TPU available: False, using: 0 TPU cores\n",
      "HPU available: False, using: 0 HPUs\n"
     ]
    },
    {
     "name": "stdout",
     "output_type": "stream",
     "text": [
      "85\n"
     ]
    },
    {
     "data": {
      "application/vnd.jupyter.widget-view+json": {
       "model_id": "9e771402492f4bb599ad287cc8899b5e",
       "version_major": 2,
       "version_minor": 0
      },
      "text/plain": [
       "Training: |                                                 | 0/? [00:00<?, ?it/s]"
      ]
     },
     "metadata": {},
     "output_type": "display_data"
    },
    {
     "name": "stderr",
     "output_type": "stream",
     "text": [
      "Using default `ModelCheckpoint`. Consider installing `litmodels` package to enable `LitModelCheckpoint` for automatic upload to the Lightning model registry.\n",
      "GPU available: True (mps), used: False\n",
      "TPU available: False, using: 0 TPU cores\n",
      "HPU available: False, using: 0 HPUs\n"
     ]
    },
    {
     "name": "stdout",
     "output_type": "stream",
     "text": [
      "86\n"
     ]
    },
    {
     "data": {
      "application/vnd.jupyter.widget-view+json": {
       "model_id": "daeab6d27b1449ee86e38f5eca710f71",
       "version_major": 2,
       "version_minor": 0
      },
      "text/plain": [
       "Training: |                                                 | 0/? [00:00<?, ?it/s]"
      ]
     },
     "metadata": {},
     "output_type": "display_data"
    },
    {
     "name": "stderr",
     "output_type": "stream",
     "text": [
      "Using default `ModelCheckpoint`. Consider installing `litmodels` package to enable `LitModelCheckpoint` for automatic upload to the Lightning model registry.\n",
      "GPU available: True (mps), used: False\n",
      "TPU available: False, using: 0 TPU cores\n",
      "HPU available: False, using: 0 HPUs\n"
     ]
    },
    {
     "name": "stdout",
     "output_type": "stream",
     "text": [
      "87\n"
     ]
    },
    {
     "data": {
      "application/vnd.jupyter.widget-view+json": {
       "model_id": "a31f072831934b009ee0f4ed8e059183",
       "version_major": 2,
       "version_minor": 0
      },
      "text/plain": [
       "Training: |                                                 | 0/? [00:00<?, ?it/s]"
      ]
     },
     "metadata": {},
     "output_type": "display_data"
    },
    {
     "name": "stderr",
     "output_type": "stream",
     "text": [
      "Using default `ModelCheckpoint`. Consider installing `litmodels` package to enable `LitModelCheckpoint` for automatic upload to the Lightning model registry.\n",
      "GPU available: True (mps), used: False\n",
      "TPU available: False, using: 0 TPU cores\n",
      "HPU available: False, using: 0 HPUs\n"
     ]
    },
    {
     "name": "stdout",
     "output_type": "stream",
     "text": [
      "88\n"
     ]
    },
    {
     "data": {
      "application/vnd.jupyter.widget-view+json": {
       "model_id": "1dbeeec7aab74c6e8c08b0d2b7d4897f",
       "version_major": 2,
       "version_minor": 0
      },
      "text/plain": [
       "Training: |                                                 | 0/? [00:00<?, ?it/s]"
      ]
     },
     "metadata": {},
     "output_type": "display_data"
    },
    {
     "name": "stderr",
     "output_type": "stream",
     "text": [
      "Using default `ModelCheckpoint`. Consider installing `litmodels` package to enable `LitModelCheckpoint` for automatic upload to the Lightning model registry.\n",
      "GPU available: True (mps), used: False\n",
      "TPU available: False, using: 0 TPU cores\n",
      "HPU available: False, using: 0 HPUs\n"
     ]
    },
    {
     "name": "stdout",
     "output_type": "stream",
     "text": [
      "89\n"
     ]
    },
    {
     "data": {
      "application/vnd.jupyter.widget-view+json": {
       "model_id": "a50409efa9ef4295aaf1f27772f97ade",
       "version_major": 2,
       "version_minor": 0
      },
      "text/plain": [
       "Training: |                                                 | 0/? [00:00<?, ?it/s]"
      ]
     },
     "metadata": {},
     "output_type": "display_data"
    },
    {
     "name": "stderr",
     "output_type": "stream",
     "text": [
      "Using default `ModelCheckpoint`. Consider installing `litmodels` package to enable `LitModelCheckpoint` for automatic upload to the Lightning model registry.\n",
      "GPU available: True (mps), used: False\n",
      "TPU available: False, using: 0 TPU cores\n",
      "HPU available: False, using: 0 HPUs\n"
     ]
    },
    {
     "name": "stdout",
     "output_type": "stream",
     "text": [
      "90\n"
     ]
    },
    {
     "data": {
      "application/vnd.jupyter.widget-view+json": {
       "model_id": "4b28341898064c6a8f3595dc8c4dd5f5",
       "version_major": 2,
       "version_minor": 0
      },
      "text/plain": [
       "Training: |                                                 | 0/? [00:00<?, ?it/s]"
      ]
     },
     "metadata": {},
     "output_type": "display_data"
    },
    {
     "name": "stderr",
     "output_type": "stream",
     "text": [
      "Using default `ModelCheckpoint`. Consider installing `litmodels` package to enable `LitModelCheckpoint` for automatic upload to the Lightning model registry.\n",
      "GPU available: True (mps), used: False\n",
      "TPU available: False, using: 0 TPU cores\n",
      "HPU available: False, using: 0 HPUs\n"
     ]
    },
    {
     "name": "stdout",
     "output_type": "stream",
     "text": [
      "91\n"
     ]
    },
    {
     "data": {
      "application/vnd.jupyter.widget-view+json": {
       "model_id": "0918e869ad62490f85173ca0eb683366",
       "version_major": 2,
       "version_minor": 0
      },
      "text/plain": [
       "Training: |                                                 | 0/? [00:00<?, ?it/s]"
      ]
     },
     "metadata": {},
     "output_type": "display_data"
    },
    {
     "name": "stderr",
     "output_type": "stream",
     "text": [
      "Using default `ModelCheckpoint`. Consider installing `litmodels` package to enable `LitModelCheckpoint` for automatic upload to the Lightning model registry.\n",
      "GPU available: True (mps), used: False\n",
      "TPU available: False, using: 0 TPU cores\n",
      "HPU available: False, using: 0 HPUs\n"
     ]
    },
    {
     "name": "stdout",
     "output_type": "stream",
     "text": [
      "92\n"
     ]
    },
    {
     "data": {
      "application/vnd.jupyter.widget-view+json": {
       "model_id": "91304ef92865477e9a80322252472144",
       "version_major": 2,
       "version_minor": 0
      },
      "text/plain": [
       "Training: |                                                 | 0/? [00:00<?, ?it/s]"
      ]
     },
     "metadata": {},
     "output_type": "display_data"
    },
    {
     "name": "stderr",
     "output_type": "stream",
     "text": [
      "Using default `ModelCheckpoint`. Consider installing `litmodels` package to enable `LitModelCheckpoint` for automatic upload to the Lightning model registry.\n",
      "GPU available: True (mps), used: False\n",
      "TPU available: False, using: 0 TPU cores\n",
      "HPU available: False, using: 0 HPUs\n"
     ]
    },
    {
     "name": "stdout",
     "output_type": "stream",
     "text": [
      "93\n"
     ]
    },
    {
     "data": {
      "application/vnd.jupyter.widget-view+json": {
       "model_id": "067021f8c25c45a5ba994661110cc95a",
       "version_major": 2,
       "version_minor": 0
      },
      "text/plain": [
       "Training: |                                                 | 0/? [00:00<?, ?it/s]"
      ]
     },
     "metadata": {},
     "output_type": "display_data"
    },
    {
     "name": "stderr",
     "output_type": "stream",
     "text": [
      "Using default `ModelCheckpoint`. Consider installing `litmodels` package to enable `LitModelCheckpoint` for automatic upload to the Lightning model registry.\n",
      "GPU available: True (mps), used: False\n",
      "TPU available: False, using: 0 TPU cores\n",
      "HPU available: False, using: 0 HPUs\n"
     ]
    },
    {
     "name": "stdout",
     "output_type": "stream",
     "text": [
      "94\n"
     ]
    },
    {
     "data": {
      "application/vnd.jupyter.widget-view+json": {
       "model_id": "6cedc05dc98940f9a981dd4728d0b9a9",
       "version_major": 2,
       "version_minor": 0
      },
      "text/plain": [
       "Training: |                                                 | 0/? [00:00<?, ?it/s]"
      ]
     },
     "metadata": {},
     "output_type": "display_data"
    },
    {
     "name": "stderr",
     "output_type": "stream",
     "text": [
      "Using default `ModelCheckpoint`. Consider installing `litmodels` package to enable `LitModelCheckpoint` for automatic upload to the Lightning model registry.\n",
      "GPU available: True (mps), used: False\n",
      "TPU available: False, using: 0 TPU cores\n",
      "HPU available: False, using: 0 HPUs\n"
     ]
    },
    {
     "name": "stdout",
     "output_type": "stream",
     "text": [
      "95\n"
     ]
    },
    {
     "data": {
      "application/vnd.jupyter.widget-view+json": {
       "model_id": "41d44839065e4e61abee1bdbfcac592a",
       "version_major": 2,
       "version_minor": 0
      },
      "text/plain": [
       "Training: |                                                 | 0/? [00:00<?, ?it/s]"
      ]
     },
     "metadata": {},
     "output_type": "display_data"
    },
    {
     "name": "stderr",
     "output_type": "stream",
     "text": [
      "Using default `ModelCheckpoint`. Consider installing `litmodels` package to enable `LitModelCheckpoint` for automatic upload to the Lightning model registry.\n",
      "GPU available: True (mps), used: False\n",
      "TPU available: False, using: 0 TPU cores\n",
      "HPU available: False, using: 0 HPUs\n"
     ]
    },
    {
     "name": "stdout",
     "output_type": "stream",
     "text": [
      "96\n"
     ]
    },
    {
     "data": {
      "application/vnd.jupyter.widget-view+json": {
       "model_id": "8799a00a36c24378a34eaf3085771dcf",
       "version_major": 2,
       "version_minor": 0
      },
      "text/plain": [
       "Training: |                                                 | 0/? [00:00<?, ?it/s]"
      ]
     },
     "metadata": {},
     "output_type": "display_data"
    },
    {
     "name": "stderr",
     "output_type": "stream",
     "text": [
      "Using default `ModelCheckpoint`. Consider installing `litmodels` package to enable `LitModelCheckpoint` for automatic upload to the Lightning model registry.\n",
      "GPU available: True (mps), used: False\n",
      "TPU available: False, using: 0 TPU cores\n",
      "HPU available: False, using: 0 HPUs\n"
     ]
    },
    {
     "name": "stdout",
     "output_type": "stream",
     "text": [
      "97\n"
     ]
    },
    {
     "data": {
      "application/vnd.jupyter.widget-view+json": {
       "model_id": "aad09390726e445c83f1f6f6a9962d1b",
       "version_major": 2,
       "version_minor": 0
      },
      "text/plain": [
       "Training: |                                                 | 0/? [00:00<?, ?it/s]"
      ]
     },
     "metadata": {},
     "output_type": "display_data"
    },
    {
     "name": "stderr",
     "output_type": "stream",
     "text": [
      "Using default `ModelCheckpoint`. Consider installing `litmodels` package to enable `LitModelCheckpoint` for automatic upload to the Lightning model registry.\n",
      "GPU available: True (mps), used: False\n",
      "TPU available: False, using: 0 TPU cores\n",
      "HPU available: False, using: 0 HPUs\n"
     ]
    },
    {
     "name": "stdout",
     "output_type": "stream",
     "text": [
      "98\n"
     ]
    },
    {
     "data": {
      "application/vnd.jupyter.widget-view+json": {
       "model_id": "6447bb84b82a45bda791267de3c00a5e",
       "version_major": 2,
       "version_minor": 0
      },
      "text/plain": [
       "Training: |                                                 | 0/? [00:00<?, ?it/s]"
      ]
     },
     "metadata": {},
     "output_type": "display_data"
    },
    {
     "name": "stderr",
     "output_type": "stream",
     "text": [
      "Using default `ModelCheckpoint`. Consider installing `litmodels` package to enable `LitModelCheckpoint` for automatic upload to the Lightning model registry.\n",
      "GPU available: True (mps), used: False\n",
      "TPU available: False, using: 0 TPU cores\n",
      "HPU available: False, using: 0 HPUs\n"
     ]
    },
    {
     "name": "stdout",
     "output_type": "stream",
     "text": [
      "99\n"
     ]
    },
    {
     "data": {
      "application/vnd.jupyter.widget-view+json": {
       "model_id": "a325470886754f64b1c3cdd5ec132d12",
       "version_major": 2,
       "version_minor": 0
      },
      "text/plain": [
       "Training: |                                                 | 0/? [00:00<?, ?it/s]"
      ]
     },
     "metadata": {},
     "output_type": "display_data"
    }
   ],
   "source": [
    "from scipy.optimize import linear_sum_assignment\n",
    "all_itempars = torch.zeros((100, itempars.shape[0], itempars.shape[1],itempars.shape[2]))\n",
    "\n",
    "n_bootstrap_samples = 100\n",
    "for sample_ix in range(n_bootstrap_samples):\n",
    "    print(sample_ix)\n",
    "    n_samples = npi_items.shape[0]\n",
    "    bootstrap_indices = torch.randint(0, n_samples, (1, n_samples))\n",
    "    bootstrap_samples = npi_items[bootstrap_indices, :].squeeze()  # shape: (B, n_samples, n_features)\n",
    "\n",
    "    dataset = MemoryDataset(bootstrap_samples)\n",
    "    train_loader = DataLoader(dataset, cfg['OptimConfigs']['batch_size'], shuffle=True)\n",
    "\n",
    "    logger = CSVLogger(\"logs\", name='_'.join(sys.argv), version=0)\n",
    "    trainer = Trainer(fast_dev_run=cfg['OptimConfigs']['single_epoch_test_run'],\n",
    "                      max_epochs=cfg['OptimConfigs']['max_epochs'],\n",
    "                      min_epochs=cfg['OptimConfigs']['min_epochs'],\n",
    "                      logger=logger,\n",
    "                      callbacks=[\n",
    "                          EarlyStopping(monitor='train_loss',\n",
    "                                        min_delta=cfg['OptimConfigs']['min_delta'],\n",
    "                                        patience=cfg['OptimConfigs']['patience'],\n",
    "                                        mode='min')],\n",
    "                      enable_progress_bar=True,\n",
    "                      enable_model_summary=False,\n",
    "                      detect_anomaly=cfg['OptimConfigs']['detect_anomaly'],\n",
    "                      accelerator=cfg['OptimConfigs']['accelerator'])\n",
    "    \n",
    "    model = VAE(dataloader=train_loader,\n",
    "              nitems=npi_items.shape[1],\n",
    "              learning_rate=cfg['OptimConfigs']['learning_rate'],\n",
    "              latent_dims=7,\n",
    "              hidden_layer_size=(40+7)//2,\n",
    "              qm=Q,\n",
    "              batch_size=32,\n",
    "              n_iw_samples=10,\n",
    "              temperature=cfg['OptimConfigs']['gumbel_temperature'],\n",
    "              temperature_decay=cfg['OptimConfigs']['gumbel_decay'],\n",
    "              min_temp=cfg['OptimConfigs']['gumbel_min_temp'],\n",
    "              beta=1)\n",
    "    \n",
    "    start = time.time()\n",
    "    trainer.fit(model)\n",
    "    runtime = time.time() - start\n",
    "    \n",
    "    pi, theta, itempars, ll = model.compute_parameters(npi_items)\n",
    "\n",
    "    #classcor = Cor(intercepts.T, itempars[:, 0, :].detach().numpy().T)\n",
    "\n",
    "    cost_matrix = -np.abs(Cor(intercepts.T, itempars[:, 0, :].detach().numpy().T))  # Use abs if signs are flipped\n",
    "    row_ind, col_ind = linear_sum_assignment(cost_matrix)\n",
    "    \n",
    "    # Now permute itempars to match true classes\n",
    "    itempars = itempars[:, :, col_ind]\n",
    "\n",
    "    # deal with label switching\n",
    "    #if classcor[1,0] > classcor[0,0]:\n",
    "    #    tmp = itempars[:, :, 0] \n",
    "    #    itempars[:, :, 0] = itempars[:, :, 1]\n",
    "    #    itempars[:, :, 1] = tmp\n",
    "\n",
    "    # ddeal with flipped thetas\n",
    "    for dim in range(theta.shape[1]):\n",
    "        slope_cor = np.corrcoef((slopes[:,dim], itempars[:, dim+1, 0].detach().numpy()))[1,0]\n",
    "        if slope_cor < 0: \n",
    "            itempars[:, dim+1, :] *= -1\n",
    "    \n",
    "    all_itempars[sample_ix, :, :, :] = itempars"
   ]
  },
  {
   "cell_type": "code",
   "execution_count": null,
   "id": "86fe279e-ca5b-4165-b497-6731b0a757dd",
   "metadata": {},
   "outputs": [],
   "source": [
    "1+1"
   ]
  },
  {
   "cell_type": "code",
   "execution_count": 39,
   "id": "501a47f3-06ee-4561-986b-3be83f0515ac",
   "metadata": {},
   "outputs": [
    {
     "data": {
      "text/plain": [
       "tensor([0.6723, 0.9740, 0.7626, 1.3067, 0.9160, 1.1858, 1.5364, 0.8685, 1.6635,\n",
       "        1.0288, 0.4899, 1.1081, 1.4378, 0.7728, 0.9368, 0.6972, 0.4504, 0.9647,\n",
       "        1.2442, 1.0720, 0.9078, 0.3137, 1.1308, 0.7298, 1.5183, 0.6770, 1.5323,\n",
       "        0.8345, 1.0056, 1.7602, 1.0049, 1.2304, 1.1946, 0.9930, 1.5528, 1.4174,\n",
       "        0.7205, 1.1190, 1.0126, 1.7498])"
      ]
     },
     "execution_count": 39,
     "metadata": {},
     "output_type": "execute_result"
    }
   ],
   "source": [
    "SEs[:,0,1]"
   ]
  },
  {
   "cell_type": "code",
   "execution_count": 37,
   "id": "69afc950-4c6b-4afa-a1b4-50264e064e87",
   "metadata": {},
   "outputs": [
    {
     "data": {
      "text/plain": [
       "tensor([0.0833, 0.1166, 0.0917, 0.1788, 0.1112, 0.1457, 0.2132, 0.1069, 0.1746,\n",
       "        0.1126, 0.0735, 0.1392, 0.1573, 0.0855, 0.1219, 0.0929, 0.0665, 0.1321,\n",
       "        0.1841, 0.1263, 0.0938, 0.0614, 0.1310, 0.0918, 0.1861, 0.0859, 0.1692,\n",
       "        0.1133, 0.1189, 0.2165, 0.1222, 0.1136, 0.1256, 0.1353, 0.1675, 0.1752,\n",
       "        0.0942, 0.1487, 0.1329, 0.1991])"
      ]
     },
     "execution_count": 37,
     "metadata": {},
     "output_type": "execute_result"
    }
   ],
   "source": [
    "SEs[:,0, 0]"
   ]
  },
  {
   "cell_type": "code",
   "execution_count": 9,
   "id": "38e29431-8d55-4147-9322-7a89495728df",
   "metadata": {},
   "outputs": [],
   "source": [
    "SEs = torch.std(all_itempars, dim=0)"
   ]
  },
  {
   "cell_type": "code",
   "execution_count": 15,
   "id": "cad65634-d3d1-4c16-a097-afbb333eee8f",
   "metadata": {},
   "outputs": [
    {
     "data": {
      "text/plain": [
       "tensor([1.3378, 1.9477, 1.5156, 2.6383, 1.7931, 2.3470, 3.0233, 1.7428, 3.2115,\n",
       "        2.0421, 0.9515, 2.1975, 2.8268, 1.4983, 1.8724, 1.3716, 0.8900, 1.9438,\n",
       "        2.4613, 2.1179, 1.7773, 0.6181, 2.2367, 1.4320, 2.9824, 1.3429, 3.0569,\n",
       "        1.6348, 1.9959, 3.4406, 1.9502, 2.4720, 2.3959, 1.9453, 3.0548, 2.8233,\n",
       "        1.4134, 2.1919, 1.9971, 3.3930])"
      ]
     },
     "execution_count": 15,
     "metadata": {},
     "output_type": "execute_result"
    }
   ],
   "source": [
    "intercept1_est = torch.mean(all_itempars[:, :, 0, 0], dim=0 )\n",
    "intercept2_est = torch.mean(all_itempars[:, :, 0, 1], dim=0 )\n",
    "diff = intercept2_est - intercept1_est\n",
    "SE_pooled = torch.sqrt(SEs[:, 0, 0]**2 + SEs[:, 0, 1]**2)\n",
    "diff"
   ]
  },
  {
   "cell_type": "code",
   "execution_count": 34,
   "id": "0e5eda08-4604-430e-bfb8-b97fae633774",
   "metadata": {},
   "outputs": [
    {
     "data": {
      "image/png": "[encoded data removed]",
      "text/plain": [
       "<Figure size 800x2000 with 1 Axes>"
      ]
     },
     "metadata": {},
     "output_type": "display_data"
    }
   ],
   "source": [
    "import matplotlib.pyplot as plt\n",
    "import torch\n",
    "import matplotlib as mpl\n",
    "\n",
    "mpl.rcParams['font.family'] = 'Times New Roman'\n",
    "\n",
    "# Sort by diff\n",
    "sorted_idx = torch.argsort(-diff)\n",
    "diff_sorted = diff[sorted_idx]\n",
    "SE_sorted = SE_pooled[sorted_idx]\n",
    "\n",
    "# Compute confidence intervals\n",
    "lower = diff_sorted - 1.96 * SE_sorted\n",
    "upper = diff_sorted + 1.96 * SE_sorted\n",
    "\n",
    "# Plot horizontal error bars\n",
    "plt.figure(figsize=(8, len(diff) * 0.5))\n",
    "y = torch.arange(len(diff))\n",
    "plt.errorbar(diff_sorted, y, xerr=1.96 * SE_sorted, fmt='o', capsize=4, label='95% CI', color='black')\n",
    "\n",
    "# Add vertical line at 0\n",
    "plt.axvline(0, color='gray', linestyle='dotted')\n",
    "\n",
    "# Add y-axis labels with larger font size\n",
    "plt.yticks(y, [f\"Q{i.item()+1}\" for i in sorted_idx], fontsize=30)\n",
    "\n",
    "# Axis labels with larger font size\n",
    "plt.xlabel(\"Difference in intercepts (class 2 - class 1)\", fontsize=30)\n",
    "plt.ylabel(\"\")  # Remove y-axis label\n",
    "\n",
    "# Set x-axis tick label font size\n",
    "plt.xticks(fontsize=30)\n",
    "\n",
    "plt.grid(True, axis='x', linestyle='--', alpha=0.5)\n",
    "plt.tight_layout()\n",
    "plt.savefig('/Users/karel/Downloads/difplot.png')\n",
    "plt.show()\n"
   ]
  },
  {
   "cell_type": "code",
   "execution_count": 22,
   "id": "59840510-e842-4588-b7ad-68a1e5d16456",
   "metadata": {},
   "outputs": [
    {
     "data": {
      "text/html": [
       "<div>\n",
       "<style scoped>\n",
       "    .dataframe tbody tr th:only-of-type {\n",
       "        vertical-align: middle;\n",
       "    }\n",
       "\n",
       "    .dataframe tbody tr th {\n",
       "        vertical-align: top;\n",
       "    }\n",
       "\n",
       "    .dataframe thead th {\n",
       "        text-align: right;\n",
       "    }\n",
       "</style>\n",
       "<table border=\"1\" class=\"dataframe\">\n",
       "  <thead>\n",
       "    <tr style=\"text-align: right;\">\n",
       "      <th></th>\n",
       "      <th>score</th>\n",
       "      <th>Q1</th>\n",
       "      <th>Q2</th>\n",
       "      <th>Q3</th>\n",
       "      <th>Q4</th>\n",
       "      <th>Q5</th>\n",
       "      <th>Q6</th>\n",
       "      <th>Q7</th>\n",
       "      <th>Q8</th>\n",
       "      <th>Q9</th>\n",
       "      <th>...</th>\n",
       "      <th>Q34</th>\n",
       "      <th>Q35</th>\n",
       "      <th>Q36</th>\n",
       "      <th>Q37</th>\n",
       "      <th>Q38</th>\n",
       "      <th>Q39</th>\n",
       "      <th>Q40</th>\n",
       "      <th>elapse</th>\n",
       "      <th>gender</th>\n",
       "      <th>age</th>\n",
       "    </tr>\n",
       "  </thead>\n",
       "  <tbody>\n",
       "    <tr>\n",
       "      <th>0</th>\n",
       "      <td>18</td>\n",
       "      <td>2</td>\n",
       "      <td>2</td>\n",
       "      <td>2</td>\n",
       "      <td>2</td>\n",
       "      <td>1</td>\n",
       "      <td>2</td>\n",
       "      <td>1</td>\n",
       "      <td>2</td>\n",
       "      <td>2</td>\n",
       "      <td>...</td>\n",
       "      <td>1</td>\n",
       "      <td>1</td>\n",
       "      <td>2</td>\n",
       "      <td>2</td>\n",
       "      <td>2</td>\n",
       "      <td>1</td>\n",
       "      <td>2</td>\n",
       "      <td>211</td>\n",
       "      <td>1</td>\n",
       "      <td>50</td>\n",
       "    </tr>\n",
       "    <tr>\n",
       "      <th>1</th>\n",
       "      <td>6</td>\n",
       "      <td>2</td>\n",
       "      <td>2</td>\n",
       "      <td>2</td>\n",
       "      <td>1</td>\n",
       "      <td>2</td>\n",
       "      <td>2</td>\n",
       "      <td>1</td>\n",
       "      <td>2</td>\n",
       "      <td>1</td>\n",
       "      <td>...</td>\n",
       "      <td>2</td>\n",
       "      <td>1</td>\n",
       "      <td>2</td>\n",
       "      <td>2</td>\n",
       "      <td>2</td>\n",
       "      <td>2</td>\n",
       "      <td>1</td>\n",
       "      <td>149</td>\n",
       "      <td>1</td>\n",
       "      <td>40</td>\n",
       "    </tr>\n",
       "    <tr>\n",
       "      <th>2</th>\n",
       "      <td>27</td>\n",
       "      <td>1</td>\n",
       "      <td>2</td>\n",
       "      <td>2</td>\n",
       "      <td>1</td>\n",
       "      <td>2</td>\n",
       "      <td>1</td>\n",
       "      <td>2</td>\n",
       "      <td>1</td>\n",
       "      <td>2</td>\n",
       "      <td>...</td>\n",
       "      <td>1</td>\n",
       "      <td>2</td>\n",
       "      <td>1</td>\n",
       "      <td>1</td>\n",
       "      <td>2</td>\n",
       "      <td>1</td>\n",
       "      <td>2</td>\n",
       "      <td>168</td>\n",
       "      <td>1</td>\n",
       "      <td>28</td>\n",
       "    </tr>\n",
       "    <tr>\n",
       "      <th>3</th>\n",
       "      <td>29</td>\n",
       "      <td>1</td>\n",
       "      <td>1</td>\n",
       "      <td>2</td>\n",
       "      <td>2</td>\n",
       "      <td>2</td>\n",
       "      <td>1</td>\n",
       "      <td>2</td>\n",
       "      <td>1</td>\n",
       "      <td>1</td>\n",
       "      <td>...</td>\n",
       "      <td>1</td>\n",
       "      <td>2</td>\n",
       "      <td>1</td>\n",
       "      <td>2</td>\n",
       "      <td>2</td>\n",
       "      <td>1</td>\n",
       "      <td>1</td>\n",
       "      <td>230</td>\n",
       "      <td>1</td>\n",
       "      <td>37</td>\n",
       "    </tr>\n",
       "    <tr>\n",
       "      <th>4</th>\n",
       "      <td>6</td>\n",
       "      <td>1</td>\n",
       "      <td>2</td>\n",
       "      <td>1</td>\n",
       "      <td>1</td>\n",
       "      <td>1</td>\n",
       "      <td>2</td>\n",
       "      <td>1</td>\n",
       "      <td>2</td>\n",
       "      <td>1</td>\n",
       "      <td>...</td>\n",
       "      <td>2</td>\n",
       "      <td>1</td>\n",
       "      <td>2</td>\n",
       "      <td>2</td>\n",
       "      <td>2</td>\n",
       "      <td>0</td>\n",
       "      <td>1</td>\n",
       "      <td>389</td>\n",
       "      <td>1</td>\n",
       "      <td>50</td>\n",
       "    </tr>\n",
       "    <tr>\n",
       "      <th>...</th>\n",
       "      <td>...</td>\n",
       "      <td>...</td>\n",
       "      <td>...</td>\n",
       "      <td>...</td>\n",
       "      <td>...</td>\n",
       "      <td>...</td>\n",
       "      <td>...</td>\n",
       "      <td>...</td>\n",
       "      <td>...</td>\n",
       "      <td>...</td>\n",
       "      <td>...</td>\n",
       "      <td>...</td>\n",
       "      <td>...</td>\n",
       "      <td>...</td>\n",
       "      <td>...</td>\n",
       "      <td>...</td>\n",
       "      <td>...</td>\n",
       "      <td>...</td>\n",
       "      <td>...</td>\n",
       "      <td>...</td>\n",
       "      <td>...</td>\n",
       "    </tr>\n",
       "    <tr>\n",
       "      <th>11238</th>\n",
       "      <td>1</td>\n",
       "      <td>2</td>\n",
       "      <td>2</td>\n",
       "      <td>2</td>\n",
       "      <td>1</td>\n",
       "      <td>1</td>\n",
       "      <td>2</td>\n",
       "      <td>1</td>\n",
       "      <td>2</td>\n",
       "      <td>1</td>\n",
       "      <td>...</td>\n",
       "      <td>2</td>\n",
       "      <td>1</td>\n",
       "      <td>2</td>\n",
       "      <td>2</td>\n",
       "      <td>2</td>\n",
       "      <td>2</td>\n",
       "      <td>1</td>\n",
       "      <td>243</td>\n",
       "      <td>1</td>\n",
       "      <td>24</td>\n",
       "    </tr>\n",
       "    <tr>\n",
       "      <th>11239</th>\n",
       "      <td>10</td>\n",
       "      <td>2</td>\n",
       "      <td>2</td>\n",
       "      <td>1</td>\n",
       "      <td>1</td>\n",
       "      <td>1</td>\n",
       "      <td>2</td>\n",
       "      <td>1</td>\n",
       "      <td>1</td>\n",
       "      <td>1</td>\n",
       "      <td>...</td>\n",
       "      <td>2</td>\n",
       "      <td>1</td>\n",
       "      <td>2</td>\n",
       "      <td>1</td>\n",
       "      <td>2</td>\n",
       "      <td>2</td>\n",
       "      <td>1</td>\n",
       "      <td>197</td>\n",
       "      <td>1</td>\n",
       "      <td>39</td>\n",
       "    </tr>\n",
       "    <tr>\n",
       "      <th>11240</th>\n",
       "      <td>6</td>\n",
       "      <td>1</td>\n",
       "      <td>2</td>\n",
       "      <td>2</td>\n",
       "      <td>1</td>\n",
       "      <td>1</td>\n",
       "      <td>2</td>\n",
       "      <td>1</td>\n",
       "      <td>2</td>\n",
       "      <td>1</td>\n",
       "      <td>...</td>\n",
       "      <td>2</td>\n",
       "      <td>1</td>\n",
       "      <td>2</td>\n",
       "      <td>2</td>\n",
       "      <td>2</td>\n",
       "      <td>2</td>\n",
       "      <td>1</td>\n",
       "      <td>447</td>\n",
       "      <td>2</td>\n",
       "      <td>33</td>\n",
       "    </tr>\n",
       "    <tr>\n",
       "      <th>11241</th>\n",
       "      <td>12</td>\n",
       "      <td>2</td>\n",
       "      <td>2</td>\n",
       "      <td>1</td>\n",
       "      <td>1</td>\n",
       "      <td>1</td>\n",
       "      <td>1</td>\n",
       "      <td>1</td>\n",
       "      <td>1</td>\n",
       "      <td>1</td>\n",
       "      <td>...</td>\n",
       "      <td>1</td>\n",
       "      <td>2</td>\n",
       "      <td>2</td>\n",
       "      <td>2</td>\n",
       "      <td>2</td>\n",
       "      <td>2</td>\n",
       "      <td>1</td>\n",
       "      <td>167</td>\n",
       "      <td>1</td>\n",
       "      <td>24</td>\n",
       "    </tr>\n",
       "    <tr>\n",
       "      <th>11242</th>\n",
       "      <td>18</td>\n",
       "      <td>1</td>\n",
       "      <td>2</td>\n",
       "      <td>1</td>\n",
       "      <td>1</td>\n",
       "      <td>1</td>\n",
       "      <td>1</td>\n",
       "      <td>2</td>\n",
       "      <td>2</td>\n",
       "      <td>1</td>\n",
       "      <td>...</td>\n",
       "      <td>2</td>\n",
       "      <td>2</td>\n",
       "      <td>1</td>\n",
       "      <td>2</td>\n",
       "      <td>2</td>\n",
       "      <td>1</td>\n",
       "      <td>1</td>\n",
       "      <td>291</td>\n",
       "      <td>1</td>\n",
       "      <td>36</td>\n",
       "    </tr>\n",
       "  </tbody>\n",
       "</table>\n",
       "<p>11243 rows × 44 columns</p>\n",
       "</div>"
      ],
      "text/plain": [
       "       score  Q1  Q2  Q3  Q4  Q5  Q6  Q7  Q8  Q9  ...  Q34  Q35  Q36  Q37  \\\n",
       "0         18   2   2   2   2   1   2   1   2   2  ...    1    1    2    2   \n",
       "1          6   2   2   2   1   2   2   1   2   1  ...    2    1    2    2   \n",
       "2         27   1   2   2   1   2   1   2   1   2  ...    1    2    1    1   \n",
       "3         29   1   1   2   2   2   1   2   1   1  ...    1    2    1    2   \n",
       "4          6   1   2   1   1   1   2   1   2   1  ...    2    1    2    2   \n",
       "...      ...  ..  ..  ..  ..  ..  ..  ..  ..  ..  ...  ...  ...  ...  ...   \n",
       "11238      1   2   2   2   1   1   2   1   2   1  ...    2    1    2    2   \n",
       "11239     10   2   2   1   1   1   2   1   1   1  ...    2    1    2    1   \n",
       "11240      6   1   2   2   1   1   2   1   2   1  ...    2    1    2    2   \n",
       "11241     12   2   2   1   1   1   1   1   1   1  ...    1    2    2    2   \n",
       "11242     18   1   2   1   1   1   1   2   2   1  ...    2    2    1    2   \n",
       "\n",
       "       Q38  Q39  Q40  elapse  gender  age  \n",
       "0        2    1    2     211       1   50  \n",
       "1        2    2    1     149       1   40  \n",
       "2        2    1    2     168       1   28  \n",
       "3        2    1    1     230       1   37  \n",
       "4        2    0    1     389       1   50  \n",
       "...    ...  ...  ...     ...     ...  ...  \n",
       "11238    2    2    1     243       1   24  \n",
       "11239    2    2    1     197       1   39  \n",
       "11240    2    2    1     447       2   33  \n",
       "11241    2    2    1     167       1   24  \n",
       "11242    2    1    1     291       1   36  \n",
       "\n",
       "[11243 rows x 44 columns]"
      ]
     },
     "execution_count": 22,
     "metadata": {},
     "output_type": "execute_result"
    }
   ],
   "source": [
    "npi"
   ]
  },
  {
   "cell_type": "code",
   "execution_count": null,
   "id": "e5bd3b15-1bcf-42c5-96d3-ebbb123fd172",
   "metadata": {},
   "outputs": [],
   "source": []
  },
  {
   "cell_type": "code",
   "execution_count": 70,
   "id": "6ce0feaf-7c27-4bd5-8166-43a3acb4f676",
   "metadata": {},
   "outputs": [
    {
     "data": {
      "text/plain": [
       "(-3.7988914700224994, 0.22679935786873104)"
      ]
     },
     "execution_count": 70,
     "metadata": {},
     "output_type": "execute_result"
    },
    {
     "data": {
      "image/png": "[encoded data removed]",
      "text/plain": [
       "<Figure size 640x480 with 1 Axes>"
      ]
     },
     "metadata": {},
     "output_type": "display_data"
    }
   ],
   "source": [
    "plt.scatter(all_itempars[5, :, 0, 1], all_itempars[5, :, 0, 0])\n",
    "min_val = min(plt.xlim()[0], plt.ylim()[0])\n",
    "max_val = max(plt.xlim()[1], plt.ylim()[1])\n",
    "plt.plot([min_val, max_val], [min_val, max_val], 'r--')  # red dashed identity line\n",
    "plt.xlim(min_val, max_val)\n",
    "plt.ylim(min_val, max_val)"
   ]
  },
  {
   "cell_type": "code",
   "execution_count": 23,
   "id": "94bab885-bc72-4ab1-8087-d00fac405c9c",
   "metadata": {},
   "outputs": [
    {
     "data": {
      "text/plain": [
       "array([[ 1., nan, nan, nan, nan, nan, nan],\n",
       "       [nan,  1., nan, nan, nan, nan, nan],\n",
       "       [nan, nan,  1., nan, nan, nan, nan],\n",
       "       [nan, nan, nan,  1., nan, nan, nan],\n",
       "       [nan, nan, nan, nan,  1., nan, nan],\n",
       "       [nan, nan, nan, nan, nan,  1., nan],\n",
       "       [nan, nan, nan, nan, nan, nan,  1.]], dtype=float32)"
      ]
     },
     "execution_count": 23,
     "metadata": {},
     "output_type": "execute_result"
    }
   ],
   "source": [
    "np.corrcoef()"
   ]
  },
  {
   "cell_type": "code",
   "execution_count": null,
   "id": "9b7f8dd4-30b7-40b4-8fb5-b8a72c50d968",
   "metadata": {},
   "outputs": [],
   "source": []
  },
  {
   "cell_type": "code",
   "execution_count": 73,
   "id": "34a5d4eb-2fe8-4525-88d2-c4a475aace0b",
   "metadata": {},
   "outputs": [
    {
     "data": {
      "text/plain": [
       "54"
      ]
     },
     "execution_count": 73,
     "metadata": {},
     "output_type": "execute_result"
    }
   ],
   "source": [
    "# Compare along the 40 values for each i\n",
    "equal_mask = all_itempars[:, :, 0, 0] == all_itempars[:, :, 0, 1]  # shape: [100, 40]\n",
    "\n",
    "# For each i, check if all 40 elements are equal\n",
    "all_equal = equal_mask.all(dim=1)  # shape: [100]\n",
    "\n",
    "# Count how many times this is true across the 100 entries\n",
    "count_equal = all_equal.sum().item()\n",
    "\n",
    "count_equal"
   ]
  },
  {
   "cell_type": "code",
   "execution_count": 255,
   "id": "fd9a7171-6ca7-4647-b167-2c0c98309370",
   "metadata": {},
   "outputs": [
    {
     "data": {
      "text/plain": [
       "(-3.125871276855469, 0.14885101318359376)"
      ]
     },
     "execution_count": 255,
     "metadata": {},
     "output_type": "execute_result"
    },
    {
     "data": {
      "image/png": "[encoded data removed]",
      "text/plain": [
       "<Figure size 640x480 with 1 Axes>"
      ]
     },
     "metadata": {},
     "output_type": "display_data"
    }
   ],
   "source": [
    "i=6\n",
    "plt.scatter(itempars[:, i+1, 0], slopes[:, i])\n",
    "min_val = min(plt.xlim()[0], plt.ylim()[0])\n",
    "max_val = max(plt.xlim()[1], plt.ylim()[1])\n",
    "plt.plot([min_val, max_val], [min_val, max_val], 'r--')  # red dashed identity line\n",
    "plt.xlim(min_val, max_val)\n",
    "plt.ylim(min_val, max_val)"
   ]
  },
  {
   "cell_type": "markdown",
   "id": "085f0880-20dd-42d0-baf3-b4188304d50b",
   "metadata": {},
   "source": [
    "# Cross validation for number of clusters"
   ]
  },
  {
   "cell_type": "code",
   "execution_count": 6,
   "id": "898d6168-2a4d-4908-b745-9af869e82663",
   "metadata": {},
   "outputs": [
    {
     "name": "stderr",
     "output_type": "stream",
     "text": [
      "Using default `ModelCheckpoint`. Consider installing `litmodels` package to enable `LitModelCheckpoint` for automatic upload to the Lightning model registry.\n",
      "GPU available: True (mps), used: False\n",
      "TPU available: False, using: 0 TPU cores\n",
      "HPU available: False, using: 0 HPUs\n"
     ]
    },
    {
     "name": "stdout",
     "output_type": "stream",
     "text": [
      "Running fold 1/5\n"
     ]
    },
    {
     "data": {
      "application/vnd.jupyter.widget-view+json": {
       "model_id": "c59512d6d63643dc96a64966f4d95452",
       "version_major": 2,
       "version_minor": 0
      },
      "text/plain": [
       "Training: |                                                     | 0/? [00:00<?, ?it/s]"
      ]
     },
     "metadata": {},
     "output_type": "display_data"
    },
    {
     "name": "stderr",
     "output_type": "stream",
     "text": [
      "Using default `ModelCheckpoint`. Consider installing `litmodels` package to enable `LitModelCheckpoint` for automatic upload to the Lightning model registry.\n",
      "GPU available: True (mps), used: False\n",
      "TPU available: False, using: 0 TPU cores\n",
      "HPU available: False, using: 0 HPUs\n"
     ]
    },
    {
     "name": "stdout",
     "output_type": "stream",
     "text": [
      "Running fold 2/5\n"
     ]
    },
    {
     "data": {
      "application/vnd.jupyter.widget-view+json": {
       "model_id": "f0efce51a2ad4bb0920f966e3f04f7e3",
       "version_major": 2,
       "version_minor": 0
      },
      "text/plain": [
       "Training: |                                                     | 0/? [00:00<?, ?it/s]"
      ]
     },
     "metadata": {},
     "output_type": "display_data"
    },
    {
     "name": "stderr",
     "output_type": "stream",
     "text": [
      "Using default `ModelCheckpoint`. Consider installing `litmodels` package to enable `LitModelCheckpoint` for automatic upload to the Lightning model registry.\n",
      "GPU available: True (mps), used: False\n",
      "TPU available: False, using: 0 TPU cores\n",
      "HPU available: False, using: 0 HPUs\n"
     ]
    },
    {
     "name": "stdout",
     "output_type": "stream",
     "text": [
      "Running fold 3/5\n"
     ]
    },
    {
     "data": {
      "application/vnd.jupyter.widget-view+json": {
       "model_id": "b17674610c064cb0b0fd3d97f8d12ff0",
       "version_major": 2,
       "version_minor": 0
      },
      "text/plain": [
       "Training: |                                                     | 0/? [00:00<?, ?it/s]"
      ]
     },
     "metadata": {},
     "output_type": "display_data"
    },
    {
     "name": "stderr",
     "output_type": "stream",
     "text": [
      "Using default `ModelCheckpoint`. Consider installing `litmodels` package to enable `LitModelCheckpoint` for automatic upload to the Lightning model registry.\n",
      "GPU available: True (mps), used: False\n",
      "TPU available: False, using: 0 TPU cores\n",
      "HPU available: False, using: 0 HPUs\n"
     ]
    },
    {
     "name": "stdout",
     "output_type": "stream",
     "text": [
      "Running fold 4/5\n"
     ]
    },
    {
     "data": {
      "application/vnd.jupyter.widget-view+json": {
       "model_id": "d026b79ca54c49aa99243e811da84d6c",
       "version_major": 2,
       "version_minor": 0
      },
      "text/plain": [
       "Training: |                                                     | 0/? [00:00<?, ?it/s]"
      ]
     },
     "metadata": {},
     "output_type": "display_data"
    },
    {
     "name": "stderr",
     "output_type": "stream",
     "text": [
      "Using default `ModelCheckpoint`. Consider installing `litmodels` package to enable `LitModelCheckpoint` for automatic upload to the Lightning model registry.\n",
      "GPU available: True (mps), used: False\n",
      "TPU available: False, using: 0 TPU cores\n",
      "HPU available: False, using: 0 HPUs\n"
     ]
    },
    {
     "name": "stdout",
     "output_type": "stream",
     "text": [
      "Running fold 5/5\n"
     ]
    },
    {
     "data": {
      "application/vnd.jupyter.widget-view+json": {
       "model_id": "104340ac2be249d39cd135761afde74a",
       "version_major": 2,
       "version_minor": 0
      },
      "text/plain": [
       "Training: |                                                     | 0/? [00:00<?, ?it/s]"
      ]
     },
     "metadata": {},
     "output_type": "display_data"
    },
    {
     "data": {
      "text/plain": [
       "np.float32(-35506.562)"
      ]
     },
     "execution_count": 6,
     "metadata": {},
     "output_type": "execute_result"
    }
   ],
   "source": [
    "from sklearn.model_selection import KFold\n",
    "\n",
    "kf = KFold(n_splits=5, shuffle=True, random_state=42)\n",
    "\n",
    "n_splits = 5\n",
    "lls = []\n",
    "\n",
    "for fold_idx, (train_idx, val_idx) in enumerate(kf.split(npi_items)):\n",
    "    print(f\"Running fold {fold_idx + 1}/{n_splits}\")\n",
    "    \n",
    "    # Define training and validation sets\n",
    "    train_dataset = MemoryDataset(npi_items[train_idx])\n",
    "    val_dataset = MemoryDataset(npi_items[val_idx])\n",
    "\n",
    "    train_loader = DataLoader(train_dataset, batch_size=cfg['OptimConfigs']['batch_size'], shuffle=True)\n",
    "    test_loader = DataLoader(val_dataset, batch_size=len(val_dataset), shuffle=False)  # full batch\n",
    "\n",
    "    logger = CSVLogger(\"logs\", name=f\"fold_{fold_idx + 1}\", version=0)\n",
    "    trainer = Trainer(\n",
    "        fast_dev_run=cfg['OptimConfigs']['single_epoch_test_run'],\n",
    "        max_epochs=cfg['OptimConfigs']['max_epochs'],\n",
    "        min_epochs=cfg['OptimConfigs']['min_epochs'],\n",
    "        logger=logger,\n",
    "        callbacks=[EarlyStopping(\n",
    "            monitor='train_loss',\n",
    "            min_delta=cfg['OptimConfigs']['min_delta'],\n",
    "            patience=cfg['OptimConfigs']['patience'],\n",
    "            mode='min')],\n",
    "        enable_progress_bar=True,\n",
    "        enable_model_summary=False,\n",
    "        detect_anomaly=cfg['OptimConfigs']['detect_anomaly'],\n",
    "        accelerator=cfg['OptimConfigs']['accelerator']\n",
    "    )\n",
    "\n",
    "    model = VAE(\n",
    "        dataloader=train_loader,\n",
    "        nitems=npi_items.shape[1],\n",
    "        learning_rate=cfg['OptimConfigs']['learning_rate'],\n",
    "        latent_dims=7,\n",
    "        hidden_layer_size=(40 + 7) // 2,\n",
    "        qm=Q,\n",
    "        batch_size=cfg['OptimConfigs']['batch_size'],\n",
    "        n_iw_samples=10,\n",
    "        temperature=cfg['OptimConfigs']['gumbel_temperature'],\n",
    "        temperature_decay=cfg['OptimConfigs']['gumbel_decay'],\n",
    "        min_temp=cfg['OptimConfigs']['gumbel_min_temp'],\n",
    "        beta=1,\n",
    "        nclass=2\n",
    "    )\n",
    "\n",
    "    start = time.time()\n",
    "    trainer.fit(model)\n",
    "    runtime = time.time() - start\n",
    "\n",
    "    pi, theta, itempars, ll = model.compute_parameters(next(iter(test_loader)))\n",
    "\n",
    "    lls.append(ll)\n",
    "\n",
    "np.mean(lls)"
   ]
  },
  {
   "cell_type": "code",
   "execution_count": 5,
   "id": "6f2b6142-9da3-4b43-97a4-c558bb19c609",
   "metadata": {},
   "outputs": [
    {
     "name": "stderr",
     "output_type": "stream",
     "text": [
      "Using default `ModelCheckpoint`. Consider installing `litmodels` package to enable `LitModelCheckpoint` for automatic upload to the Lightning model registry.\n",
      "GPU available: True (mps), used: False\n",
      "TPU available: False, using: 0 TPU cores\n",
      "HPU available: False, using: 0 HPUs\n"
     ]
    },
    {
     "name": "stdout",
     "output_type": "stream",
     "text": [
      "Running fold 1/5\n"
     ]
    },
    {
     "name": "stderr",
     "output_type": "stream",
     "text": [
      "/Library/Frameworks/Python.framework/Versions/3.13/lib/python3.13/site-packages/lightning_fabric/loggers/csv_logs.py:268: Experiment logs directory logs/fold_1/version_0 exists and is not empty. Previous log files in this directory will be deleted when the new ones are saved!\n",
      "/Library/Frameworks/Python.framework/Versions/3.13/lib/python3.13/site-packages/pytorch_lightning/callbacks/model_checkpoint.py:654: Checkpoint directory logs/fold_1/version_0/checkpoints exists and is not empty.\n",
      "/Library/Frameworks/Python.framework/Versions/3.13/lib/python3.13/site-packages/pytorch_lightning/loops/fit_loop.py:310: The number of training batches (9) is smaller than the logging interval Trainer(log_every_n_steps=50). Set a lower value for log_every_n_steps if you want to see logs for the training epoch.\n"
     ]
    },
    {
     "data": {
      "application/vnd.jupyter.widget-view+json": {
       "model_id": "da7a58f574294fb3bfc01e58968577fc",
       "version_major": 2,
       "version_minor": 0
      },
      "text/plain": [
       "Training: |                                                     | 0/? [00:00<?, ?it/s]"
      ]
     },
     "metadata": {},
     "output_type": "display_data"
    },
    {
     "name": "stderr",
     "output_type": "stream",
     "text": [
      "Using default `ModelCheckpoint`. Consider installing `litmodels` package to enable `LitModelCheckpoint` for automatic upload to the Lightning model registry.\n",
      "GPU available: True (mps), used: False\n",
      "TPU available: False, using: 0 TPU cores\n",
      "HPU available: False, using: 0 HPUs\n"
     ]
    },
    {
     "name": "stdout",
     "output_type": "stream",
     "text": [
      "Running fold 2/5\n"
     ]
    },
    {
     "name": "stderr",
     "output_type": "stream",
     "text": [
      "/Library/Frameworks/Python.framework/Versions/3.13/lib/python3.13/site-packages/lightning_fabric/loggers/csv_logs.py:268: Experiment logs directory logs/fold_2/version_0 exists and is not empty. Previous log files in this directory will be deleted when the new ones are saved!\n",
      "/Library/Frameworks/Python.framework/Versions/3.13/lib/python3.13/site-packages/pytorch_lightning/callbacks/model_checkpoint.py:654: Checkpoint directory logs/fold_2/version_0/checkpoints exists and is not empty.\n"
     ]
    },
    {
     "data": {
      "application/vnd.jupyter.widget-view+json": {
       "model_id": "960faf2b002c4ea1a7c1caa98ad968e3",
       "version_major": 2,
       "version_minor": 0
      },
      "text/plain": [
       "Training: |                                                     | 0/? [00:00<?, ?it/s]"
      ]
     },
     "metadata": {},
     "output_type": "display_data"
    },
    {
     "name": "stderr",
     "output_type": "stream",
     "text": [
      "Using default `ModelCheckpoint`. Consider installing `litmodels` package to enable `LitModelCheckpoint` for automatic upload to the Lightning model registry.\n",
      "GPU available: True (mps), used: False\n",
      "TPU available: False, using: 0 TPU cores\n",
      "HPU available: False, using: 0 HPUs\n"
     ]
    },
    {
     "name": "stdout",
     "output_type": "stream",
     "text": [
      "Running fold 3/5\n"
     ]
    },
    {
     "name": "stderr",
     "output_type": "stream",
     "text": [
      "/Library/Frameworks/Python.framework/Versions/3.13/lib/python3.13/site-packages/lightning_fabric/loggers/csv_logs.py:268: Experiment logs directory logs/fold_3/version_0 exists and is not empty. Previous log files in this directory will be deleted when the new ones are saved!\n",
      "/Library/Frameworks/Python.framework/Versions/3.13/lib/python3.13/site-packages/pytorch_lightning/callbacks/model_checkpoint.py:654: Checkpoint directory logs/fold_3/version_0/checkpoints exists and is not empty.\n"
     ]
    },
    {
     "data": {
      "application/vnd.jupyter.widget-view+json": {
       "model_id": "46111c6d7db8410dbf3e5de1f9209b56",
       "version_major": 2,
       "version_minor": 0
      },
      "text/plain": [
       "Training: |                                                     | 0/? [00:00<?, ?it/s]"
      ]
     },
     "metadata": {},
     "output_type": "display_data"
    },
    {
     "name": "stderr",
     "output_type": "stream",
     "text": [
      "Using default `ModelCheckpoint`. Consider installing `litmodels` package to enable `LitModelCheckpoint` for automatic upload to the Lightning model registry.\n",
      "GPU available: True (mps), used: False\n",
      "TPU available: False, using: 0 TPU cores\n",
      "HPU available: False, using: 0 HPUs\n"
     ]
    },
    {
     "name": "stdout",
     "output_type": "stream",
     "text": [
      "Running fold 4/5\n"
     ]
    },
    {
     "name": "stderr",
     "output_type": "stream",
     "text": [
      "/Library/Frameworks/Python.framework/Versions/3.13/lib/python3.13/site-packages/lightning_fabric/loggers/csv_logs.py:268: Experiment logs directory logs/fold_4/version_0 exists and is not empty. Previous log files in this directory will be deleted when the new ones are saved!\n",
      "/Library/Frameworks/Python.framework/Versions/3.13/lib/python3.13/site-packages/pytorch_lightning/callbacks/model_checkpoint.py:654: Checkpoint directory logs/fold_4/version_0/checkpoints exists and is not empty.\n"
     ]
    },
    {
     "data": {
      "application/vnd.jupyter.widget-view+json": {
       "model_id": "408e50f567844a1781d7d37b2a0675f4",
       "version_major": 2,
       "version_minor": 0
      },
      "text/plain": [
       "Training: |                                                     | 0/? [00:00<?, ?it/s]"
      ]
     },
     "metadata": {},
     "output_type": "display_data"
    },
    {
     "name": "stderr",
     "output_type": "stream",
     "text": [
      "Using default `ModelCheckpoint`. Consider installing `litmodels` package to enable `LitModelCheckpoint` for automatic upload to the Lightning model registry.\n",
      "GPU available: True (mps), used: False\n",
      "TPU available: False, using: 0 TPU cores\n",
      "HPU available: False, using: 0 HPUs\n"
     ]
    },
    {
     "name": "stdout",
     "output_type": "stream",
     "text": [
      "Running fold 5/5\n"
     ]
    },
    {
     "name": "stderr",
     "output_type": "stream",
     "text": [
      "/Library/Frameworks/Python.framework/Versions/3.13/lib/python3.13/site-packages/lightning_fabric/loggers/csv_logs.py:268: Experiment logs directory logs/fold_5/version_0 exists and is not empty. Previous log files in this directory will be deleted when the new ones are saved!\n",
      "/Library/Frameworks/Python.framework/Versions/3.13/lib/python3.13/site-packages/pytorch_lightning/callbacks/model_checkpoint.py:654: Checkpoint directory logs/fold_5/version_0/checkpoints exists and is not empty.\n"
     ]
    },
    {
     "data": {
      "application/vnd.jupyter.widget-view+json": {
       "model_id": "710dffb557e1497d9aca56d72cacf238",
       "version_major": 2,
       "version_minor": 0
      },
      "text/plain": [
       "Training: |                                                     | 0/? [00:00<?, ?it/s]"
      ]
     },
     "metadata": {},
     "output_type": "display_data"
    },
    {
     "data": {
      "text/plain": [
       "np.float32(-36589.54)"
      ]
     },
     "execution_count": 5,
     "metadata": {},
     "output_type": "execute_result"
    }
   ],
   "source": [
    "from sklearn.model_selection import KFold\n",
    "\n",
    "kf = KFold(n_splits=5, shuffle=True, random_state=42)\n",
    "\n",
    "n_splits = 5\n",
    "lls = []\n",
    "\n",
    "for fold_idx, (train_idx, val_idx) in enumerate(kf.split(npi_items)):\n",
    "    print(f\"Running fold {fold_idx + 1}/{n_splits}\")\n",
    "    \n",
    "    # Define training and validation sets\n",
    "    train_dataset = MemoryDataset(npi_items[train_idx])\n",
    "    val_dataset = MemoryDataset(npi_items[val_idx])\n",
    "\n",
    "    \n",
    "    train_loader = DataLoader(train_dataset, batch_size=cfg['OptimConfigs']['batch_size'], shuffle=True)\n",
    "    test_loader = DataLoader(val_dataset, batch_size=len(val_dataset), shuffle=False)  # full batch\n",
    "\n",
    "    logger = CSVLogger(\"logs\", name=f\"fold_{fold_idx + 1}\", version=0)\n",
    "    trainer = Trainer(\n",
    "        fast_dev_run=cfg['OptimConfigs']['single_epoch_test_run'],\n",
    "        max_epochs=cfg['OptimConfigs']['max_epochs'],\n",
    "        min_epochs=cfg['OptimConfigs']['min_epochs'],\n",
    "        logger=logger,\n",
    "        callbacks=[EarlyStopping(\n",
    "            monitor='train_loss',\n",
    "            min_delta=cfg['OptimConfigs']['min_delta'],\n",
    "            patience=cfg['OptimConfigs']['patience'],\n",
    "            mode='min')],\n",
    "        enable_progress_bar=True,\n",
    "        enable_model_summary=False,\n",
    "        detect_anomaly=cfg['OptimConfigs']['detect_anomaly'],\n",
    "        accelerator=cfg['OptimConfigs']['accelerator']\n",
    "    )\n",
    "\n",
    "    model = VAE(\n",
    "        dataloader=train_loader,\n",
    "        nitems=npi_items.shape[1],\n",
    "        learning_rate=cfg['OptimConfigs']['learning_rate'],\n",
    "        latent_dims=7,\n",
    "        hidden_layer_size=(40 + 7) // 2,\n",
    "        qm=Q,\n",
    "        batch_size=cfg['OptimConfigs']['batch_size'],\n",
    "        n_iw_samples=10,\n",
    "        temperature=cfg['OptimConfigs']['gumbel_temperature'],\n",
    "        temperature_decay=cfg['OptimConfigs']['gumbel_decay'],\n",
    "        min_temp=cfg['OptimConfigs']['gumbel_min_temp'],\n",
    "        nclass=1,\n",
    "        beta=1\n",
    "    )\n",
    "\n",
    "    start = time.time()\n",
    "    trainer.fit(model)\n",
    "    runtime = time.time() - start\n",
    "\n",
    "    pi, theta, itempars, ll = model.compute_parameters(next(iter(test_loader)))\n",
    "\n",
    "    lls.append(ll)\n",
    "\n",
    "np.mean(lls)"
   ]
  },
  {
   "cell_type": "code",
   "execution_count": 47,
   "id": "880b8cad-3579-4286-ad5a-6c4ce1a79c99",
   "metadata": {},
   "outputs": [
    {
     "name": "stdout",
     "output_type": "stream",
     "text": [
      "Mean: 34.01423107711465\n",
      "Standard Deviation: 15.015611051701297\n"
     ]
    }
   ],
   "source": [
    "col = npi[\"age\"]\n",
    "\n",
    "range_ = col.max() - col.min()\n",
    "mean_ = col.mean()\n",
    "std_ = col.std()\n",
    "\n",
    "print(\"Mean:\", mean_)\n",
    "print(\"Standard Deviation:\", std_)"
   ]
  },
  {
   "cell_type": "code",
   "execution_count": 46,
   "id": "17e6bc19-7a26-4d6c-91ca-89f6a6cc9fb3",
   "metadata": {},
   "outputs": [
    {
     "data": {
      "text/plain": [
       "np.int64(0)"
      ]
     },
     "execution_count": 46,
     "metadata": {},
     "output_type": "execute_result"
    }
   ],
   "source": [
    "col.min()"
   ]
  }
 ],
 "metadata": {
  "kernelspec": {
   "display_name": "Python 3 (ipykernel)",
   "language": "python",
   "name": "python3"
  },
  "language_info": {
   "codemirror_mode": {
    "name": "ipython",
    "version": 3
   },
   "file_extension": ".py",
   "mimetype": "text/x-python",
   "name": "python",
   "nbconvert_exporter": "python",
   "pygments_lexer": "ipython3",
   "version": "3.13.3"
  }
 },
 "nbformat": 4,
 "nbformat_minor": 5
}
